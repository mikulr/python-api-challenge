{
 "cells": [
  {
   "cell_type": "markdown",
   "metadata": {},
   "source": [
    "# WeatherPy\n",
    "----\n",
    "\n",
    "#### Note\n",
    "* Instructions have been included for each segment. You do not have to follow them exactly, but they are included to help you think through the steps."
   ]
  },
  {
   "cell_type": "code",
   "execution_count": 80,
   "metadata": {
    "scrolled": true
   },
   "outputs": [],
   "source": [
    "# Dependencies and Setup\n",
    "import matplotlib.pyplot as plt\n",
    "import pandas as pd\n",
    "import numpy as np\n",
    "import requests\n",
    "import time\n",
    "from scipy import stats\n",
    "from scipy.stats import linregress\n",
    "\n",
    "# Import API key\n",
    "from api_keys import weather_api_key\n",
    "\n",
    "# Incorporated citipy to determine city based on latitude and longitude\n",
    "from citipy import citipy\n",
    "\n",
    "# Output File (CSV)\n",
    "#output_data_file = \"output_data/cities.csv\"\n",
    "\n",
    "# Range of latitudes and longitudes\n",
    "lat_range = (-90, 90)\n",
    "lng_range = (-180, 180)"
   ]
  },
  {
   "cell_type": "markdown",
   "metadata": {},
   "source": [
    "## Generate Cities List"
   ]
  },
  {
   "cell_type": "code",
   "execution_count": 147,
   "metadata": {},
   "outputs": [
    {
     "name": "stdout",
     "output_type": "stream",
     "text": [
      "178\n"
     ]
    }
   ],
   "source": [
    "# List for holding lat_lngs and cities\n",
    "lat_lngs = []\n",
    "cities = []\n",
    "\n",
    "\n",
    "# Create a set of random lat and lng combinations\n",
    "lats = np.random.uniform(lat_range[0], lat_range[1], size=300)\n",
    "lngs = np.random.uniform(lng_range[0], lng_range[1], size=300)\n",
    "lat_lngs = zip(lats, lngs)\n",
    "\n",
    "# Identify nearest city for each lat, lng combination\n",
    "for lat_lng in lat_lngs:\n",
    "    city = citipy.nearest_city(lat_lng[0], lat_lng[1]).city_name\n",
    "    \n",
    "    # If the city is unique, then add it to a our cities list\n",
    "    if city not in cities:\n",
    "        cities.append(city)\n",
    "\n",
    "# Print the city count to confirm sufficient count\n",
    "print(len(cities))"
   ]
  },
  {
   "cell_type": "markdown",
   "metadata": {},
   "source": [
    "### Perform API Calls\n",
    "* Perform a weather check on each city using a series of successive API calls.\n",
    "* Include a print log of each city as it'sbeing processed (with the city number and city name).\n",
    "\n",
    "> **HINT:** The OpenWeatherMap API only allows 60 calls per minute under their free plan. Try using `time.sleep(60)` after each set of 50 cities to avoid API errors due to large calls."
   ]
  },
  {
   "cell_type": "code",
   "execution_count": 121,
   "metadata": {},
   "outputs": [],
   "source": [
    "# Save config information.\n",
    "url = \"http://api.openweathermap.org/data/2.5/weather?\"\n",
    "units = \"imperial\"\n",
    "\n",
    "# Build partial query URL\n",
    "query_url = f\"{url}appid={weather_api_key}&units={units}&q=\""
   ]
  },
  {
   "cell_type": "code",
   "execution_count": 122,
   "metadata": {},
   "outputs": [
    {
     "name": "stdout",
     "output_type": "stream",
     "text": [
      "Beginning Data Retrieval\n",
      "-----------------------------\n",
      "City not found. Skipping.....\n",
      "Processing Record 0 of Set 1 | belushya guba\n",
      "Processing Record 1 of Set 1 | vostok\n",
      "Processing Record 2 of Set 1 | busselton\n",
      "Processing Record 3 of Set 1 | mataura\n",
      "Processing Record 4 of Set 1 | tubuala\n",
      "Processing Record 5 of Set 1 | hilo\n",
      "Processing Record 6 of Set 1 | chokurdakh\n",
      "Processing Record 7 of Set 1 | albany\n",
      "Processing Record 8 of Set 1 | ribeira grande\n",
      "Processing Record 9 of Set 1 | khasan\n",
      "Processing Record 10 of Set 1 | anadyr\n",
      "City not found. Skipping.....\n",
      "Processing Record 10 of Set 1 | barentsburg\n",
      "Processing Record 11 of Set 1 | huarmey\n",
      "Processing Record 12 of Set 1 | paamiut\n",
      "Processing Record 13 of Set 1 | saskylakh\n",
      "Processing Record 14 of Set 1 | nyurba\n",
      "City not found. Skipping.....\n",
      "Processing Record 14 of Set 1 | bolungarvik\n",
      "Processing Record 15 of Set 1 | leningradskiy\n",
      "City not found. Skipping.....\n",
      "Processing Record 15 of Set 1 | illoqqortoormiut\n",
      "Processing Record 16 of Set 1 | vaini\n",
      "Processing Record 17 of Set 1 | butaritari\n",
      "Processing Record 18 of Set 1 | mangaratiba\n",
      "Processing Record 19 of Set 1 | qaanaaq\n",
      "Processing Record 20 of Set 1 | ushuaia\n",
      "Processing Record 21 of Set 1 | ahipara\n",
      "Processing Record 22 of Set 1 | pacific grove\n",
      "Processing Record 23 of Set 1 | bluff\n",
      "Processing Record 24 of Set 1 | saldanha\n",
      "Processing Record 25 of Set 1 | cherskiy\n",
      "Processing Record 26 of Set 1 | cidreira\n",
      "Processing Record 27 of Set 1 | punta arenas\n",
      "Processing Record 28 of Set 1 | wukari\n",
      "Processing Record 29 of Set 1 | chuy\n",
      "Processing Record 30 of Set 1 | wanparti\n",
      "Processing Record 31 of Set 1 | vao\n",
      "Processing Record 32 of Set 1 | rikitea\n",
      "Processing Record 33 of Set 1 | kapaa\n",
      "Processing Record 34 of Set 1 | englewood\n",
      "Processing Record 35 of Set 1 | sitio novo do tocantins\n",
      "Processing Record 36 of Set 1 | norman wells\n",
      "Processing Record 37 of Set 1 | avarua\n",
      "Processing Record 38 of Set 1 | zhigansk\n",
      "Processing Record 39 of Set 1 | hermanus\n",
      "Processing Record 40 of Set 1 | provideniya\n",
      "Processing Record 41 of Set 1 | conde\n",
      "City not found. Skipping.....\n",
      "Processing Record 41 of Set 1 | formoso do araguaia\n",
      "Processing Record 42 of Set 1 | souillac\n",
      "Processing Record 43 of Set 1 | port alfred\n",
      "Processing Record 44 of Set 1 | harper\n",
      "Processing Record 45 of Set 1 | hasaki\n",
      "Processing Record 46 of Set 1 | mar del plata\n",
      "Processing Record 47 of Set 1 | clyde river\n",
      "Processing Record 48 of Set 1 | atuona\n",
      "Processing Record 49 of Set 1 | upernavik\n",
      "Processing Record 50 of Set 1 | sur\n",
      "Processing Record 51 of Set 1 | san policarpo\n",
      "Processing Record 52 of Set 1 | ponta do sol\n",
      "Processing Record 53 of Set 1 | faya\n",
      "Processing Record 54 of Set 1 | gerzat\n",
      "Processing Record 55 of Set 1 | puerto ayora\n",
      "Processing Record 56 of Set 1 | hamilton\n",
      "Processing Record 57 of Set 1 | te anau\n",
      "Processing Record 58 of Set 1 | aswan\n",
      "Processing Record 59 of Set 1 | chimbote\n",
      "Processing Record 60 of Set 1 | port elizabeth\n",
      "Processing Record 61 of Set 1 | severo-kurilsk\n",
      "Processing Record 62 of Set 1 | koslan\n",
      "Processing Record 63 of Set 1 | tuktoyaktuk\n",
      "Processing Record 64 of Set 1 | katsuura\n",
      "Processing Record 65 of Set 1 | yoshii\n",
      "Processing Record 66 of Set 1 | tibati\n",
      "Processing Record 67 of Set 1 | sambava\n",
      "Processing Record 68 of Set 1 | luderitz\n",
      "Processing Record 69 of Set 1 | agadez\n",
      "Processing Record 70 of Set 1 | yellowknife\n",
      "Processing Record 71 of Set 1 | hobart\n",
      "Processing Record 72 of Set 1 | barrow\n",
      "Processing Record 73 of Set 1 | comodoro rivadavia\n",
      "Processing Record 74 of Set 1 | mahebourg\n"
     ]
    }
   ],
   "source": [
    "# set up lists to hold reponse info\n",
    "lat = []\n",
    "long= []\n",
    "temp = []\n",
    "maxtemp=[]\n",
    "humid=[]\n",
    "cloud=[]\n",
    "windsp=[]\n",
    "country=[]\n",
    "date=[]\n",
    "name=[]\n",
    "city_ct=0\n",
    "\n",
    "print('Beginning Data Retrieval')     \n",
    "print (\"-----------------------------\")\n",
    "# Loop through the list of cities and perform a request for data on each\n",
    "#set try/except to pass over the cities that are not found in the API (they will show as a KeyError)\n",
    "for city in cities:\n",
    "    try:\n",
    "        response = requests.get(query_url + city).json()\n",
    "        lat.append(response['coord']['lat'])\n",
    "        long.append(response['coord']['lon'])\n",
    "        maxtemp.append(response['main']['temp_max'])\n",
    "        humid.append(response['main']['humidity'])\n",
    "        cloud.append(response['clouds']['all'])\n",
    "        windsp.append(response['wind']['speed'])\n",
    "        country.append(response['sys']['country'])\n",
    "        date.append(response['dt'])\n",
    "        name.append(response['name'])\n",
    "        city_ct = city_ct + 1\n",
    "        if city_ct == 50:\n",
    "            time.sleep(30)\n",
    "    except KeyError:\n",
    "        print(\"City not found. Skipping.....\")\n",
    "        #pass\n",
    "        \n",
    "    #for city, value in cities.len():\n",
    "    print (f\"Processing Record {city_ct} for {city}\")"
   ]
  },
  {
   "cell_type": "code",
   "execution_count": 123,
   "metadata": {},
   "outputs": [
    {
     "data": {
      "text/html": [
       "<div>\n",
       "<style scoped>\n",
       "    .dataframe tbody tr th:only-of-type {\n",
       "        vertical-align: middle;\n",
       "    }\n",
       "\n",
       "    .dataframe tbody tr th {\n",
       "        vertical-align: top;\n",
       "    }\n",
       "\n",
       "    .dataframe thead th {\n",
       "        text-align: right;\n",
       "    }\n",
       "</style>\n",
       "<table border=\"1\" class=\"dataframe\">\n",
       "  <thead>\n",
       "    <tr style=\"text-align: right;\">\n",
       "      <th></th>\n",
       "      <th>City</th>\n",
       "      <th>Latitude</th>\n",
       "      <th>Longitude</th>\n",
       "      <th>Max Temperature</th>\n",
       "      <th>Humidity</th>\n",
       "      <th>Cloudiness</th>\n",
       "      <th>Wind Speed</th>\n",
       "      <th>Country</th>\n",
       "      <th>Date</th>\n",
       "    </tr>\n",
       "  </thead>\n",
       "  <tbody>\n",
       "    <tr>\n",
       "      <th>0</th>\n",
       "      <td>Vostok</td>\n",
       "      <td>46.4856</td>\n",
       "      <td>135.8833</td>\n",
       "      <td>-5.91</td>\n",
       "      <td>99</td>\n",
       "      <td>100</td>\n",
       "      <td>3.56</td>\n",
       "      <td>RU</td>\n",
       "      <td>1643834476</td>\n",
       "    </tr>\n",
       "    <tr>\n",
       "      <th>1</th>\n",
       "      <td>Busselton</td>\n",
       "      <td>-33.6500</td>\n",
       "      <td>115.3333</td>\n",
       "      <td>66.04</td>\n",
       "      <td>49</td>\n",
       "      <td>100</td>\n",
       "      <td>14.92</td>\n",
       "      <td>AU</td>\n",
       "      <td>1643834476</td>\n",
       "    </tr>\n",
       "    <tr>\n",
       "      <th>2</th>\n",
       "      <td>Mataura</td>\n",
       "      <td>-46.1927</td>\n",
       "      <td>168.8643</td>\n",
       "      <td>57.47</td>\n",
       "      <td>98</td>\n",
       "      <td>100</td>\n",
       "      <td>4.25</td>\n",
       "      <td>NZ</td>\n",
       "      <td>1643834477</td>\n",
       "    </tr>\n",
       "    <tr>\n",
       "      <th>3</th>\n",
       "      <td>Tubualá</td>\n",
       "      <td>9.5167</td>\n",
       "      <td>-79.0333</td>\n",
       "      <td>90.34</td>\n",
       "      <td>73</td>\n",
       "      <td>14</td>\n",
       "      <td>9.22</td>\n",
       "      <td>PA</td>\n",
       "      <td>1643834477</td>\n",
       "    </tr>\n",
       "    <tr>\n",
       "      <th>4</th>\n",
       "      <td>Hilo</td>\n",
       "      <td>19.7297</td>\n",
       "      <td>-155.0900</td>\n",
       "      <td>78.53</td>\n",
       "      <td>69</td>\n",
       "      <td>40</td>\n",
       "      <td>0.00</td>\n",
       "      <td>US</td>\n",
       "      <td>1643834477</td>\n",
       "    </tr>\n",
       "    <tr>\n",
       "      <th>...</th>\n",
       "      <td>...</td>\n",
       "      <td>...</td>\n",
       "      <td>...</td>\n",
       "      <td>...</td>\n",
       "      <td>...</td>\n",
       "      <td>...</td>\n",
       "      <td>...</td>\n",
       "      <td>...</td>\n",
       "      <td>...</td>\n",
       "    </tr>\n",
       "    <tr>\n",
       "      <th>69</th>\n",
       "      <td>Yellowknife</td>\n",
       "      <td>62.4560</td>\n",
       "      <td>-114.3525</td>\n",
       "      <td>-28.68</td>\n",
       "      <td>75</td>\n",
       "      <td>20</td>\n",
       "      <td>3.44</td>\n",
       "      <td>CA</td>\n",
       "      <td>1643834557</td>\n",
       "    </tr>\n",
       "    <tr>\n",
       "      <th>70</th>\n",
       "      <td>Hobart</td>\n",
       "      <td>-42.8794</td>\n",
       "      <td>147.3294</td>\n",
       "      <td>55.11</td>\n",
       "      <td>68</td>\n",
       "      <td>40</td>\n",
       "      <td>6.91</td>\n",
       "      <td>AU</td>\n",
       "      <td>1643834557</td>\n",
       "    </tr>\n",
       "    <tr>\n",
       "      <th>71</th>\n",
       "      <td>Barrow</td>\n",
       "      <td>71.2906</td>\n",
       "      <td>-156.7887</td>\n",
       "      <td>-21.98</td>\n",
       "      <td>69</td>\n",
       "      <td>0</td>\n",
       "      <td>4.61</td>\n",
       "      <td>US</td>\n",
       "      <td>1643834288</td>\n",
       "    </tr>\n",
       "    <tr>\n",
       "      <th>72</th>\n",
       "      <td>Comodoro Rivadavia</td>\n",
       "      <td>-45.8667</td>\n",
       "      <td>-67.5000</td>\n",
       "      <td>82.26</td>\n",
       "      <td>23</td>\n",
       "      <td>0</td>\n",
       "      <td>16.11</td>\n",
       "      <td>AR</td>\n",
       "      <td>1643834271</td>\n",
       "    </tr>\n",
       "    <tr>\n",
       "      <th>73</th>\n",
       "      <td>Mahébourg</td>\n",
       "      <td>-20.4081</td>\n",
       "      <td>57.7000</td>\n",
       "      <td>80.89</td>\n",
       "      <td>89</td>\n",
       "      <td>75</td>\n",
       "      <td>29.93</td>\n",
       "      <td>MU</td>\n",
       "      <td>1643834558</td>\n",
       "    </tr>\n",
       "  </tbody>\n",
       "</table>\n",
       "<p>74 rows × 9 columns</p>\n",
       "</div>"
      ],
      "text/plain": [
       "                  City  Latitude  Longitude  Max Temperature  Humidity  \\\n",
       "0               Vostok   46.4856   135.8833            -5.91        99   \n",
       "1            Busselton  -33.6500   115.3333            66.04        49   \n",
       "2              Mataura  -46.1927   168.8643            57.47        98   \n",
       "3              Tubualá    9.5167   -79.0333            90.34        73   \n",
       "4                 Hilo   19.7297  -155.0900            78.53        69   \n",
       "..                 ...       ...        ...              ...       ...   \n",
       "69         Yellowknife   62.4560  -114.3525           -28.68        75   \n",
       "70              Hobart  -42.8794   147.3294            55.11        68   \n",
       "71              Barrow   71.2906  -156.7887           -21.98        69   \n",
       "72  Comodoro Rivadavia  -45.8667   -67.5000            82.26        23   \n",
       "73           Mahébourg  -20.4081    57.7000            80.89        89   \n",
       "\n",
       "    Cloudiness  Wind Speed Country        Date  \n",
       "0          100        3.56      RU  1643834476  \n",
       "1          100       14.92      AU  1643834476  \n",
       "2          100        4.25      NZ  1643834477  \n",
       "3           14        9.22      PA  1643834477  \n",
       "4           40        0.00      US  1643834477  \n",
       "..         ...         ...     ...         ...  \n",
       "69          20        3.44      CA  1643834557  \n",
       "70          40        6.91      AU  1643834557  \n",
       "71           0        4.61      US  1643834288  \n",
       "72           0       16.11      AR  1643834271  \n",
       "73          75       29.93      MU  1643834558  \n",
       "\n",
       "[74 rows x 9 columns]"
      ]
     },
     "execution_count": 123,
     "metadata": {},
     "output_type": "execute_result"
    }
   ],
   "source": [
    "city_dict={\n",
    "    \"City\": name,\n",
    "    \"Latitude\": lat,\n",
    "    \"Longitude\": long,\n",
    "    \"Max Temperature\": maxtemp,\n",
    "    \"Humidity\": humid,\n",
    "    \"Cloudiness\": cloud,\n",
    "    \"Wind Speed\": windsp,\n",
    "    \"Country\": country,\n",
    "    \"Date\": date,\n",
    "}\n",
    "city_data_pd= pd.DataFrame(city_dict)\n",
    "city_data_pd"
   ]
  },
  {
   "cell_type": "code",
   "execution_count": null,
   "metadata": {
    "scrolled": true
   },
   "outputs": [],
   "source": []
  },
  {
   "cell_type": "markdown",
   "metadata": {},
   "source": [
    "### Convert Raw Data to DataFrame\n",
    "* Export the city data into a .csv.\n",
    "* Display the DataFrame"
   ]
  },
  {
   "cell_type": "code",
   "execution_count": 124,
   "metadata": {},
   "outputs": [],
   "source": [
    "#city_data_pd.to_csv(\"output_data/cities.csv\", encoding=\"utf-8\", index=False)"
   ]
  },
  {
   "cell_type": "code",
   "execution_count": null,
   "metadata": {},
   "outputs": [],
   "source": []
  },
  {
   "cell_type": "markdown",
   "metadata": {},
   "source": [
    "## Inspect the data and remove the cities where the humidity > 100%.\n",
    "----\n",
    "Skip this step if there are no cities that have humidity > 100%. "
   ]
  },
  {
   "cell_type": "code",
   "execution_count": 133,
   "metadata": {},
   "outputs": [
    {
     "data": {
      "text/html": [
       "<div>\n",
       "<style scoped>\n",
       "    .dataframe tbody tr th:only-of-type {\n",
       "        vertical-align: middle;\n",
       "    }\n",
       "\n",
       "    .dataframe tbody tr th {\n",
       "        vertical-align: top;\n",
       "    }\n",
       "\n",
       "    .dataframe thead th {\n",
       "        text-align: right;\n",
       "    }\n",
       "</style>\n",
       "<table border=\"1\" class=\"dataframe\">\n",
       "  <thead>\n",
       "    <tr style=\"text-align: right;\">\n",
       "      <th></th>\n",
       "      <th>City</th>\n",
       "      <th>Latitude</th>\n",
       "      <th>Longitude</th>\n",
       "      <th>Max Temperature</th>\n",
       "      <th>Humidity</th>\n",
       "      <th>Cloudiness</th>\n",
       "      <th>Wind Speed</th>\n",
       "      <th>Country</th>\n",
       "      <th>Date</th>\n",
       "    </tr>\n",
       "  </thead>\n",
       "  <tbody>\n",
       "    <tr>\n",
       "      <th>0</th>\n",
       "      <td>Vostok</td>\n",
       "      <td>46.4856</td>\n",
       "      <td>135.8833</td>\n",
       "      <td>-5.91</td>\n",
       "      <td>99</td>\n",
       "      <td>100</td>\n",
       "      <td>3.56</td>\n",
       "      <td>RU</td>\n",
       "      <td>1643834476</td>\n",
       "    </tr>\n",
       "    <tr>\n",
       "      <th>1</th>\n",
       "      <td>Busselton</td>\n",
       "      <td>-33.6500</td>\n",
       "      <td>115.3333</td>\n",
       "      <td>66.04</td>\n",
       "      <td>49</td>\n",
       "      <td>100</td>\n",
       "      <td>14.92</td>\n",
       "      <td>AU</td>\n",
       "      <td>1643834476</td>\n",
       "    </tr>\n",
       "    <tr>\n",
       "      <th>2</th>\n",
       "      <td>Mataura</td>\n",
       "      <td>-46.1927</td>\n",
       "      <td>168.8643</td>\n",
       "      <td>57.47</td>\n",
       "      <td>98</td>\n",
       "      <td>100</td>\n",
       "      <td>4.25</td>\n",
       "      <td>NZ</td>\n",
       "      <td>1643834477</td>\n",
       "    </tr>\n",
       "    <tr>\n",
       "      <th>3</th>\n",
       "      <td>Tubualá</td>\n",
       "      <td>9.5167</td>\n",
       "      <td>-79.0333</td>\n",
       "      <td>90.34</td>\n",
       "      <td>73</td>\n",
       "      <td>14</td>\n",
       "      <td>9.22</td>\n",
       "      <td>PA</td>\n",
       "      <td>1643834477</td>\n",
       "    </tr>\n",
       "    <tr>\n",
       "      <th>4</th>\n",
       "      <td>Hilo</td>\n",
       "      <td>19.7297</td>\n",
       "      <td>-155.0900</td>\n",
       "      <td>78.53</td>\n",
       "      <td>69</td>\n",
       "      <td>40</td>\n",
       "      <td>0.00</td>\n",
       "      <td>US</td>\n",
       "      <td>1643834477</td>\n",
       "    </tr>\n",
       "    <tr>\n",
       "      <th>...</th>\n",
       "      <td>...</td>\n",
       "      <td>...</td>\n",
       "      <td>...</td>\n",
       "      <td>...</td>\n",
       "      <td>...</td>\n",
       "      <td>...</td>\n",
       "      <td>...</td>\n",
       "      <td>...</td>\n",
       "      <td>...</td>\n",
       "    </tr>\n",
       "    <tr>\n",
       "      <th>69</th>\n",
       "      <td>Yellowknife</td>\n",
       "      <td>62.4560</td>\n",
       "      <td>-114.3525</td>\n",
       "      <td>-28.68</td>\n",
       "      <td>75</td>\n",
       "      <td>20</td>\n",
       "      <td>3.44</td>\n",
       "      <td>CA</td>\n",
       "      <td>1643834557</td>\n",
       "    </tr>\n",
       "    <tr>\n",
       "      <th>70</th>\n",
       "      <td>Hobart</td>\n",
       "      <td>-42.8794</td>\n",
       "      <td>147.3294</td>\n",
       "      <td>55.11</td>\n",
       "      <td>68</td>\n",
       "      <td>40</td>\n",
       "      <td>6.91</td>\n",
       "      <td>AU</td>\n",
       "      <td>1643834557</td>\n",
       "    </tr>\n",
       "    <tr>\n",
       "      <th>71</th>\n",
       "      <td>Barrow</td>\n",
       "      <td>71.2906</td>\n",
       "      <td>-156.7887</td>\n",
       "      <td>-21.98</td>\n",
       "      <td>69</td>\n",
       "      <td>0</td>\n",
       "      <td>4.61</td>\n",
       "      <td>US</td>\n",
       "      <td>1643834288</td>\n",
       "    </tr>\n",
       "    <tr>\n",
       "      <th>72</th>\n",
       "      <td>Comodoro Rivadavia</td>\n",
       "      <td>-45.8667</td>\n",
       "      <td>-67.5000</td>\n",
       "      <td>82.26</td>\n",
       "      <td>23</td>\n",
       "      <td>0</td>\n",
       "      <td>16.11</td>\n",
       "      <td>AR</td>\n",
       "      <td>1643834271</td>\n",
       "    </tr>\n",
       "    <tr>\n",
       "      <th>73</th>\n",
       "      <td>Mahébourg</td>\n",
       "      <td>-20.4081</td>\n",
       "      <td>57.7000</td>\n",
       "      <td>80.89</td>\n",
       "      <td>89</td>\n",
       "      <td>75</td>\n",
       "      <td>29.93</td>\n",
       "      <td>MU</td>\n",
       "      <td>1643834558</td>\n",
       "    </tr>\n",
       "  </tbody>\n",
       "</table>\n",
       "<p>72 rows × 9 columns</p>\n",
       "</div>"
      ],
      "text/plain": [
       "                  City  Latitude  Longitude  Max Temperature  Humidity  \\\n",
       "0               Vostok   46.4856   135.8833            -5.91        99   \n",
       "1            Busselton  -33.6500   115.3333            66.04        49   \n",
       "2              Mataura  -46.1927   168.8643            57.47        98   \n",
       "3              Tubualá    9.5167   -79.0333            90.34        73   \n",
       "4                 Hilo   19.7297  -155.0900            78.53        69   \n",
       "..                 ...       ...        ...              ...       ...   \n",
       "69         Yellowknife   62.4560  -114.3525           -28.68        75   \n",
       "70              Hobart  -42.8794   147.3294            55.11        68   \n",
       "71              Barrow   71.2906  -156.7887           -21.98        69   \n",
       "72  Comodoro Rivadavia  -45.8667   -67.5000            82.26        23   \n",
       "73           Mahébourg  -20.4081    57.7000            80.89        89   \n",
       "\n",
       "    Cloudiness  Wind Speed Country        Date  \n",
       "0          100        3.56      RU  1643834476  \n",
       "1          100       14.92      AU  1643834476  \n",
       "2          100        4.25      NZ  1643834477  \n",
       "3           14        9.22      PA  1643834477  \n",
       "4           40        0.00      US  1643834477  \n",
       "..         ...         ...     ...         ...  \n",
       "69          20        3.44      CA  1643834557  \n",
       "70          40        6.91      AU  1643834557  \n",
       "71           0        4.61      US  1643834288  \n",
       "72           0       16.11      AR  1643834271  \n",
       "73          75       29.93      MU  1643834558  \n",
       "\n",
       "[72 rows x 9 columns]"
      ]
     },
     "execution_count": 133,
     "metadata": {},
     "output_type": "execute_result"
    }
   ],
   "source": [
    "clean_city_data=city_data_pd[city_data_pd[\"Humidity\"] < 100]\n",
    "clean_city_data"
   ]
  },
  {
   "cell_type": "code",
   "execution_count": 125,
   "metadata": {},
   "outputs": [],
   "source": [
    "#  Get the indices of cities that have humidity over 100%.\n"
   ]
  },
  {
   "cell_type": "code",
   "execution_count": 126,
   "metadata": {},
   "outputs": [],
   "source": [
    "# Make a new DataFrame equal to the city data to drop all humidity outliers by index.\n",
    "# Passing \"inplace=False\" will make a copy of the city_data DataFrame, which we call \"clean_city_data\".\n"
   ]
  },
  {
   "cell_type": "code",
   "execution_count": null,
   "metadata": {},
   "outputs": [],
   "source": [
    "\n"
   ]
  },
  {
   "cell_type": "markdown",
   "metadata": {},
   "source": [
    "## Plotting the Data\n",
    "* Use proper labeling of the plots using plot titles (including date of analysis) and axes labels.\n",
    "* Save the plotted figures as .pngs."
   ]
  },
  {
   "cell_type": "markdown",
   "metadata": {},
   "source": [
    "## Latitude vs. Temperature Plot"
   ]
  },
  {
   "cell_type": "code",
   "execution_count": 134,
   "metadata": {
    "scrolled": true
   },
   "outputs": [
    {
     "data": {
      "image/png": "[encoded data removed]",
      "text/plain": [
       "<Figure size 432x288 with 1 Axes>"
      ]
     },
     "metadata": {
      "needs_background": "light"
     },
     "output_type": "display_data"
    }
   ],
   "source": [
    "x_values = clean_city_data['Latitude']\n",
    "y_values = clean_city_data['Max Temperature']\n",
    "\n",
    "plt.scatter(x_values,y_values)\n",
    "plt.xlabel('Latitude')\n",
    "plt.ylabel('Temperature')\n",
    "plt.show()"
   ]
  },
  {
   "cell_type": "markdown",
   "metadata": {},
   "source": [
    "## Latitude vs. Humidity Plot"
   ]
  },
  {
   "cell_type": "code",
   "execution_count": 135,
   "metadata": {},
   "outputs": [
    {
     "data": {
      "image/png": "[encoded data removed]",
      "text/plain": [
       "<Figure size 432x288 with 1 Axes>"
      ]
     },
     "metadata": {
      "needs_background": "light"
     },
     "output_type": "display_data"
    }
   ],
   "source": [
    "x_values = clean_city_data['Latitude']\n",
    "h_values = clean_city_data['Humidity']\n",
    "\n",
    "plt.scatter(x_values,h_values)\n",
    "plt.xlabel('Latitude')\n",
    "plt.ylabel('Humidity')\n",
    "plt.show()"
   ]
  },
  {
   "cell_type": "markdown",
   "metadata": {},
   "source": [
    "## Latitude vs. Cloudiness Plot"
   ]
  },
  {
   "cell_type": "code",
   "execution_count": 136,
   "metadata": {},
   "outputs": [
    {
     "data": {
      "image/png": "[encoded data removed]",
      "text/plain": [
       "<Figure size 432x288 with 1 Axes>"
      ]
     },
     "metadata": {
      "needs_background": "light"
     },
     "output_type": "display_data"
    }
   ],
   "source": [
    "x_values = clean_city_data['Latitude']\n",
    "c_values = clean_city_data['Cloudiness']\n",
    "\n",
    "plt.scatter(x_values,c_values)\n",
    "plt.xlabel('Latitude')\n",
    "plt.ylabel('Cloudiness')\n",
    "plt.show()"
   ]
  },
  {
   "cell_type": "markdown",
   "metadata": {},
   "source": [
    "## Latitude vs. Wind Speed Plot"
   ]
  },
  {
   "cell_type": "code",
   "execution_count": 137,
   "metadata": {},
   "outputs": [
    {
     "data": {
      "image/png": "[encoded data removed]",
      "text/plain": [
       "<Figure size 432x288 with 1 Axes>"
      ]
     },
     "metadata": {
      "needs_background": "light"
     },
     "output_type": "display_data"
    }
   ],
   "source": [
    "x_values = clean_city_data['Latitude']\n",
    "w_values = clean_city_data['Wind Speed']\n",
    "\n",
    "plt.scatter(x_values,w_values)\n",
    "plt.xlabel('Latitude')\n",
    "plt.ylabel('Wind Speed')\n",
    "plt.show()"
   ]
  },
  {
   "cell_type": "markdown",
   "metadata": {},
   "source": [
    "## Linear Regression"
   ]
  },
  {
   "cell_type": "code",
   "execution_count": 138,
   "metadata": {},
   "outputs": [
    {
     "name": "stdout",
     "output_type": "stream",
     "text": [
      "The r-value is: 0.6161734200754474\n"
     ]
    },
    {
     "data": {
      "image/png": "[encoded data removed]",
      "text/plain": [
       "<Figure size 432x288 with 1 Axes>"
      ]
     },
     "metadata": {
      "needs_background": "light"
     },
     "output_type": "display_data"
    }
   ],
   "source": [
    "x_values = clean_city_data['Latitude']\n",
    "y_values = clean_city_data['Max Temperature']\n",
    "\n",
    "# Perform a linear regression on temperature vs. latitude\n",
    "(slope, intercept, rvalue, pvalue, stderr) = stats.linregress(x_values, y_values)\n",
    "\n",
    "# Get regression values\n",
    "regress_values = x_values * slope + intercept\n",
    "\n",
    "# Create line equation string\n",
    "line_eq = \"y = \" + str(round(slope,2)) + \"x +\" + str(round(intercept,2))\n",
    "\n",
    "# Create Plot\n",
    "plt.scatter(x_values,y_values)\n",
    "plt.plot(x_values,regress_values,\"r-\")\n",
    "\n",
    "# Label plot and annotate the line equation\n",
    "plt.xlabel('Latitude')\n",
    "plt.ylabel('Temperature')\n",
    "plt.annotate(line_eq,(20,15),fontsize=15,color=\"red\")\n",
    "\n",
    "\n",
    "\n",
    "# Print r value\n",
    "print(f\"The r-value is: {rvalue**2}\")\n",
    "\n",
    "# Show plot\n",
    "plt.show()"
   ]
  },
  {
   "cell_type": "markdown",
   "metadata": {},
   "source": [
    "####  Northern Hemisphere - Max Temp vs. Latitude Linear Regression"
   ]
  },
  {
   "cell_type": "code",
   "execution_count": 144,
   "metadata": {},
   "outputs": [],
   "source": [
    "#Filter together northern and southern hemispheres into their own DF's\n",
    "northern_df=clean_city_data.loc[clean_city_data[\"Latitude\"] >=0,:]\n",
    "southern_df=clean_city_data.loc[clean_city_data[\"Latitude\"] <0,:]\n",
    "\n"
   ]
  },
  {
   "cell_type": "code",
   "execution_count": 145,
   "metadata": {},
   "outputs": [
    {
     "data": {
      "text/html": [
       "<div>\n",
       "<style scoped>\n",
       "    .dataframe tbody tr th:only-of-type {\n",
       "        vertical-align: middle;\n",
       "    }\n",
       "\n",
       "    .dataframe tbody tr th {\n",
       "        vertical-align: top;\n",
       "    }\n",
       "\n",
       "    .dataframe thead th {\n",
       "        text-align: right;\n",
       "    }\n",
       "</style>\n",
       "<table border=\"1\" class=\"dataframe\">\n",
       "  <thead>\n",
       "    <tr style=\"text-align: right;\">\n",
       "      <th></th>\n",
       "      <th>City</th>\n",
       "      <th>Latitude</th>\n",
       "      <th>Longitude</th>\n",
       "      <th>Max Temperature</th>\n",
       "      <th>Humidity</th>\n",
       "      <th>Cloudiness</th>\n",
       "      <th>Wind Speed</th>\n",
       "      <th>Country</th>\n",
       "      <th>Date</th>\n",
       "    </tr>\n",
       "  </thead>\n",
       "  <tbody>\n",
       "    <tr>\n",
       "      <th>0</th>\n",
       "      <td>Vostok</td>\n",
       "      <td>46.4856</td>\n",
       "      <td>135.8833</td>\n",
       "      <td>-5.91</td>\n",
       "      <td>99</td>\n",
       "      <td>100</td>\n",
       "      <td>3.56</td>\n",
       "      <td>RU</td>\n",
       "      <td>1643834476</td>\n",
       "    </tr>\n",
       "    <tr>\n",
       "      <th>3</th>\n",
       "      <td>Tubualá</td>\n",
       "      <td>9.5167</td>\n",
       "      <td>-79.0333</td>\n",
       "      <td>90.34</td>\n",
       "      <td>73</td>\n",
       "      <td>14</td>\n",
       "      <td>9.22</td>\n",
       "      <td>PA</td>\n",
       "      <td>1643834477</td>\n",
       "    </tr>\n",
       "    <tr>\n",
       "      <th>4</th>\n",
       "      <td>Hilo</td>\n",
       "      <td>19.7297</td>\n",
       "      <td>-155.0900</td>\n",
       "      <td>78.53</td>\n",
       "      <td>69</td>\n",
       "      <td>40</td>\n",
       "      <td>0.00</td>\n",
       "      <td>US</td>\n",
       "      <td>1643834477</td>\n",
       "    </tr>\n",
       "    <tr>\n",
       "      <th>5</th>\n",
       "      <td>Chokurdakh</td>\n",
       "      <td>70.6333</td>\n",
       "      <td>147.9167</td>\n",
       "      <td>-18.92</td>\n",
       "      <td>97</td>\n",
       "      <td>100</td>\n",
       "      <td>6.24</td>\n",
       "      <td>RU</td>\n",
       "      <td>1643834478</td>\n",
       "    </tr>\n",
       "    <tr>\n",
       "      <th>6</th>\n",
       "      <td>Albany</td>\n",
       "      <td>42.6001</td>\n",
       "      <td>-73.9662</td>\n",
       "      <td>45.73</td>\n",
       "      <td>72</td>\n",
       "      <td>77</td>\n",
       "      <td>3.00</td>\n",
       "      <td>US</td>\n",
       "      <td>1643833801</td>\n",
       "    </tr>\n",
       "  </tbody>\n",
       "</table>\n",
       "</div>"
      ],
      "text/plain": [
       "         City  Latitude  Longitude  Max Temperature  Humidity  Cloudiness  \\\n",
       "0      Vostok   46.4856   135.8833            -5.91        99         100   \n",
       "3     Tubualá    9.5167   -79.0333            90.34        73          14   \n",
       "4        Hilo   19.7297  -155.0900            78.53        69          40   \n",
       "5  Chokurdakh   70.6333   147.9167           -18.92        97         100   \n",
       "6      Albany   42.6001   -73.9662            45.73        72          77   \n",
       "\n",
       "   Wind Speed Country        Date  \n",
       "0        3.56      RU  1643834476  \n",
       "3        9.22      PA  1643834477  \n",
       "4        0.00      US  1643834477  \n",
       "5        6.24      RU  1643834478  \n",
       "6        3.00      US  1643833801  "
      ]
     },
     "execution_count": 145,
     "metadata": {},
     "output_type": "execute_result"
    }
   ],
   "source": [
    "northern_df.head()"
   ]
  },
  {
   "cell_type": "code",
   "execution_count": 146,
   "metadata": {},
   "outputs": [
    {
     "data": {
      "text/html": [
       "<div>\n",
       "<style scoped>\n",
       "    .dataframe tbody tr th:only-of-type {\n",
       "        vertical-align: middle;\n",
       "    }\n",
       "\n",
       "    .dataframe tbody tr th {\n",
       "        vertical-align: top;\n",
       "    }\n",
       "\n",
       "    .dataframe thead th {\n",
       "        text-align: right;\n",
       "    }\n",
       "</style>\n",
       "<table border=\"1\" class=\"dataframe\">\n",
       "  <thead>\n",
       "    <tr style=\"text-align: right;\">\n",
       "      <th></th>\n",
       "      <th>City</th>\n",
       "      <th>Latitude</th>\n",
       "      <th>Longitude</th>\n",
       "      <th>Max Temperature</th>\n",
       "      <th>Humidity</th>\n",
       "      <th>Cloudiness</th>\n",
       "      <th>Wind Speed</th>\n",
       "      <th>Country</th>\n",
       "      <th>Date</th>\n",
       "    </tr>\n",
       "  </thead>\n",
       "  <tbody>\n",
       "    <tr>\n",
       "      <th>1</th>\n",
       "      <td>Busselton</td>\n",
       "      <td>-33.6500</td>\n",
       "      <td>115.3333</td>\n",
       "      <td>66.04</td>\n",
       "      <td>49</td>\n",
       "      <td>100</td>\n",
       "      <td>14.92</td>\n",
       "      <td>AU</td>\n",
       "      <td>1643834476</td>\n",
       "    </tr>\n",
       "    <tr>\n",
       "      <th>2</th>\n",
       "      <td>Mataura</td>\n",
       "      <td>-46.1927</td>\n",
       "      <td>168.8643</td>\n",
       "      <td>57.47</td>\n",
       "      <td>98</td>\n",
       "      <td>100</td>\n",
       "      <td>4.25</td>\n",
       "      <td>NZ</td>\n",
       "      <td>1643834477</td>\n",
       "    </tr>\n",
       "    <tr>\n",
       "      <th>10</th>\n",
       "      <td>Huarmey</td>\n",
       "      <td>-10.0681</td>\n",
       "      <td>-78.1522</td>\n",
       "      <td>76.19</td>\n",
       "      <td>69</td>\n",
       "      <td>53</td>\n",
       "      <td>13.69</td>\n",
       "      <td>PE</td>\n",
       "      <td>1643834479</td>\n",
       "    </tr>\n",
       "    <tr>\n",
       "      <th>15</th>\n",
       "      <td>Vaini</td>\n",
       "      <td>-21.2000</td>\n",
       "      <td>-175.2000</td>\n",
       "      <td>84.36</td>\n",
       "      <td>79</td>\n",
       "      <td>40</td>\n",
       "      <td>5.75</td>\n",
       "      <td>TO</td>\n",
       "      <td>1643834481</td>\n",
       "    </tr>\n",
       "    <tr>\n",
       "      <th>17</th>\n",
       "      <td>Mangaratiba</td>\n",
       "      <td>-22.9597</td>\n",
       "      <td>-44.0406</td>\n",
       "      <td>78.03</td>\n",
       "      <td>90</td>\n",
       "      <td>99</td>\n",
       "      <td>2.95</td>\n",
       "      <td>BR</td>\n",
       "      <td>1643834481</td>\n",
       "    </tr>\n",
       "  </tbody>\n",
       "</table>\n",
       "</div>"
      ],
      "text/plain": [
       "           City  Latitude  Longitude  Max Temperature  Humidity  Cloudiness  \\\n",
       "1     Busselton  -33.6500   115.3333            66.04        49         100   \n",
       "2       Mataura  -46.1927   168.8643            57.47        98         100   \n",
       "10      Huarmey  -10.0681   -78.1522            76.19        69          53   \n",
       "15        Vaini  -21.2000  -175.2000            84.36        79          40   \n",
       "17  Mangaratiba  -22.9597   -44.0406            78.03        90          99   \n",
       "\n",
       "    Wind Speed Country        Date  \n",
       "1        14.92      AU  1643834476  \n",
       "2         4.25      NZ  1643834477  \n",
       "10       13.69      PE  1643834479  \n",
       "15        5.75      TO  1643834481  \n",
       "17        2.95      BR  1643834481  "
      ]
     },
     "execution_count": 146,
     "metadata": {},
     "output_type": "execute_result"
    }
   ],
   "source": [
    "southern_df.head()"
   ]
  },
  {
   "cell_type": "markdown",
   "metadata": {},
   "source": [
    "####  Southern Hemisphere - Max Temp vs. Latitude Linear Regression"
   ]
  },
  {
   "cell_type": "code",
   "execution_count": null,
   "metadata": {},
   "outputs": [],
   "source": []
  },
  {
   "cell_type": "markdown",
   "metadata": {},
   "source": [
    "####  Northern Hemisphere - Humidity (%) vs. Latitude Linear Regression"
   ]
  },
  {
   "cell_type": "code",
   "execution_count": null,
   "metadata": {},
   "outputs": [],
   "source": []
  },
  {
   "cell_type": "markdown",
   "metadata": {},
   "source": [
    "####  Southern Hemisphere - Humidity (%) vs. Latitude Linear Regression"
   ]
  },
  {
   "cell_type": "code",
   "execution_count": null,
   "metadata": {},
   "outputs": [],
   "source": []
  },
  {
   "cell_type": "markdown",
   "metadata": {},
   "source": [
    "####  Northern Hemisphere - Cloudiness (%) vs. Latitude Linear Regression"
   ]
  },
  {
   "cell_type": "code",
   "execution_count": null,
   "metadata": {},
   "outputs": [],
   "source": []
  },
  {
   "cell_type": "markdown",
   "metadata": {},
   "source": [
    "####  Southern Hemisphere - Cloudiness (%) vs. Latitude Linear Regression"
   ]
  },
  {
   "cell_type": "code",
   "execution_count": null,
   "metadata": {},
   "outputs": [],
   "source": []
  },
  {
   "cell_type": "markdown",
   "metadata": {},
   "source": [
    "####  Northern Hemisphere - Wind Speed (mph) vs. Latitude Linear Regression"
   ]
  },
  {
   "cell_type": "code",
   "execution_count": null,
   "metadata": {},
   "outputs": [],
   "source": []
  },
  {
   "cell_type": "markdown",
   "metadata": {},
   "source": [
    "####  Southern Hemisphere - Wind Speed (mph) vs. Latitude Linear Regression"
   ]
  },
  {
   "cell_type": "code",
   "execution_count": null,
   "metadata": {},
   "outputs": [],
   "source": []
  },
  {
   "cell_type": "code",
   "execution_count": null,
   "metadata": {},
   "outputs": [],
   "source": []
  }
 ],
 "metadata": {
  "anaconda-cloud": {},
  "kernel_info": {
   "name": "python3"
  },
  "kernelspec": {
   "display_name": "Python 3 (ipykernel)",
   "language": "python",
   "name": "python3"
  },
  "language_info": {
   "codemirror_mode": {
    "name": "ipython",
    "version": 3
   },
   "file_extension": ".py",
   "mimetype": "text/x-python",
   "name": "python",
   "nbconvert_exporter": "python",
   "pygments_lexer": "ipython3",
   "version": "3.8.12"
  },
  "latex_envs": {
   "LaTeX_envs_menu_present": true,
   "autoclose": false,
   "autocomplete": true,
   "bibliofile": "biblio.bib",
   "cite_by": "apalike",
   "current_citInitial": 1,
   "eqLabelWithNumbers": true,
   "eqNumInitial": 1,
   "hotkeys": {
    "equation": "Ctrl-E",
    "itemize": "Ctrl-I"
   },
   "labels_anchors": false,
   "latex_user_defs": false,
   "report_style_numbering": false,
   "user_envs_cfg": false
  },
  "nteract": {
   "version": "0.12.3"
  }
 },
 "nbformat": 4,
 "nbformat_minor": 2
}

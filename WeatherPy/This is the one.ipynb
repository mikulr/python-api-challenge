{
 "cells": [
  {
   "cell_type": "markdown",
   "metadata": {},
   "source": [
    "# WeatherPy\n",
    "----\n",
    "\n",
    "#### Note\n",
    "* Instructions have been included for each segment. You do not have to follow them exactly, but they are included to help you think through the steps."
   ]
  },
  {
   "cell_type": "code",
   "execution_count": 3,
   "metadata": {
    "scrolled": true
   },
   "outputs": [],
   "source": [
    "# Dependencies and Setup\n",
    "import matplotlib.pyplot as plt\n",
    "import pandas as pd\n",
    "import numpy as np\n",
    "import requests\n",
    "import time\n",
    "from scipy import stats\n",
    "from scipy.stats import linregress\n",
    "\n",
    "# Import API key\n",
    "from api_keys import weather_api_key\n",
    "\n",
    "# Incorporated citipy to determine city based on latitude and longitude\n",
    "from citipy import citipy\n",
    "\n",
    "# Output File (CSV)\n",
    "output_data_file = \"output_data/cities.csv\"\n",
    "\n",
    "# Range of latitudes and longitudes\n",
    "lat_range = (-90, 90)\n",
    "lng_range = (-180, 180)"
   ]
  },
  {
   "cell_type": "markdown",
   "metadata": {},
   "source": [
    "## Generate Cities List"
   ]
  },
  {
   "cell_type": "code",
   "execution_count": 4,
   "metadata": {},
   "outputs": [
    {
     "name": "stdout",
     "output_type": "stream",
     "text": [
      "191\n"
     ]
    }
   ],
   "source": [
    "# List for holding lat_lngs and cities\n",
    "lat_lngs = []\n",
    "cities = []\n",
    "\n",
    "\n",
    "# Create a set of random lat and lng combinations\n",
    "lats = np.random.uniform(lat_range[0], lat_range[1], size=300)\n",
    "lngs = np.random.uniform(lng_range[0], lng_range[1], size=300)\n",
    "lat_lngs = zip(lats, lngs)\n",
    "\n",
    "# Identify nearest city for each lat, lng combination\n",
    "for lat_lng in lat_lngs:\n",
    "    city = citipy.nearest_city(lat_lng[0], lat_lng[1]).city_name\n",
    "    \n",
    "    # If the city is unique, then add it to a our cities list\n",
    "    if city not in cities:\n",
    "        cities.append(city)\n",
    "\n",
    "# Print the city count to confirm sufficient count\n",
    "print(len(cities))"
   ]
  },
  {
   "cell_type": "markdown",
   "metadata": {},
   "source": [
    "### Perform API Calls\n",
    "* Perform a weather check on each city using a series of successive API calls.\n",
    "* Include a print log of each city as it'sbeing processed (with the city number and city name).\n",
    "\n",
    "> **HINT:** The OpenWeatherMap API only allows 60 calls per minute under their free plan. Try using `time.sleep(60)` after each set of 50 cities to avoid API errors due to large calls."
   ]
  },
  {
   "cell_type": "code",
   "execution_count": 5,
   "metadata": {},
   "outputs": [],
   "source": [
    "# Save config information.\n",
    "url = \"http://api.openweathermap.org/data/2.5/weather?\"\n",
    "units = \"imperial\"\n",
    "\n",
    "# Build partial query URL\n",
    "query_url = f\"{url}appid={weather_api_key}&units={units}&q=\""
   ]
  },
  {
   "cell_type": "code",
   "execution_count": 6,
   "metadata": {},
   "outputs": [
    {
     "name": "stdout",
     "output_type": "stream",
     "text": [
      "Beginning Data Retrieval\n",
      "-----------------------------\n",
      "Processing Record 1 for mataura\n",
      "Processing Record 2 for albany\n",
      "Processing Record 3 for kieta\n",
      "Processing Record 4 for maningrida\n",
      "Processing Record 5 for vao\n",
      "Processing Record 6 for baykit\n",
      "Processing Record 7 for san patricio\n",
      "City not found. Skipping.....\n",
      "Processing Record 7 for illoqqortoormiut\n",
      "Processing Record 8 for yuli\n",
      "Processing Record 9 for tasiilaq\n",
      "Processing Record 10 for bethel\n",
      "City not found. Skipping.....\n",
      "Processing Record 10 for amderma\n",
      "Processing Record 11 for college\n",
      "Processing Record 12 for punta arenas\n",
      "Processing Record 13 for beira\n",
      "Processing Record 14 for cherskiy\n",
      "Processing Record 15 for soyo\n",
      "Processing Record 16 for port elizabeth\n",
      "Processing Record 17 for hermanus\n",
      "Processing Record 18 for strezhevoy\n",
      "Processing Record 19 for georgetown\n",
      "Processing Record 20 for busselton\n",
      "Processing Record 21 for mar del plata\n",
      "Processing Record 22 for new norfolk\n",
      "Processing Record 23 for ushuaia\n",
      "Processing Record 24 for cape town\n",
      "Processing Record 25 for niono\n",
      "Processing Record 26 for bredasdorp\n",
      "Processing Record 27 for laguna\n",
      "Processing Record 28 for escuinapa\n",
      "Processing Record 29 for kapaa\n",
      "Processing Record 30 for tautira\n",
      "Processing Record 31 for mahebourg\n",
      "Processing Record 32 for severo-kurilsk\n",
      "Processing Record 33 for eastlake\n",
      "Processing Record 34 for biak\n",
      "Processing Record 35 for rikitea\n",
      "Processing Record 36 for aleksandrov\n",
      "Processing Record 37 for saldanha\n",
      "Processing Record 38 for benidorm\n",
      "Processing Record 39 for pevek\n",
      "Processing Record 40 for beringovskiy\n",
      "Processing Record 41 for jamestown\n",
      "Processing Record 42 for kahului\n",
      "Processing Record 43 for souillac\n",
      "Processing Record 44 for hay river\n",
      "Processing Record 45 for hamilton\n",
      "Processing Record 46 for castro\n",
      "Processing Record 47 for saskylakh\n",
      "Processing Record 48 for saint-philippe\n",
      "Processing Record 49 for padang\n",
      "City not found. Skipping.....\n",
      "Processing Record 49 for taolanaro\n",
      "Processing Record 50 for iqaluit\n",
      "Processing Record 51 for mahuva\n",
      "Processing Record 52 for havoysund\n",
      "Processing Record 53 for monrovia\n",
      "Processing Record 54 for fort nelson\n",
      "Processing Record 55 for pangnirtung\n",
      "Processing Record 56 for vaini\n",
      "Processing Record 57 for saint-francois\n",
      "Processing Record 58 for karatau\n",
      "Processing Record 59 for yar-sale\n",
      "Processing Record 60 for payson\n",
      "Processing Record 61 for sainte-maxime\n",
      "Processing Record 62 for port alfred\n",
      "Processing Record 63 for khatanga\n",
      "Processing Record 64 for tuatapere\n",
      "Processing Record 65 for san carlos\n",
      "Processing Record 66 for kashi\n",
      "Processing Record 67 for alofi\n",
      "Processing Record 68 for walvis bay\n",
      "City not found. Skipping.....\n",
      "Processing Record 68 for karkaralinsk\n",
      "City not found. Skipping.....\n",
      "Processing Record 68 for barentsburg\n",
      "City not found. Skipping.....\n",
      "Processing Record 68 for maykain\n",
      "Processing Record 69 for ilulissat\n",
      "Processing Record 70 for avarua\n",
      "City not found. Skipping.....\n",
      "Processing Record 70 for khonuu\n",
      "Processing Record 71 for hobart\n",
      "Processing Record 72 for hovd\n",
      "Processing Record 73 for dondo\n",
      "Processing Record 74 for lasa\n",
      "Processing Record 75 for puerto ayora\n",
      "Processing Record 76 for coquimbo\n",
      "Processing Record 77 for la asuncion\n",
      "Processing Record 78 for ancud\n",
      "Processing Record 79 for qaanaaq\n",
      "Processing Record 80 for dikson\n",
      "Processing Record 81 for batagay\n",
      "Processing Record 82 for marzuq\n",
      "Processing Record 83 for vrangel\n",
      "Processing Record 84 for hasaki\n",
      "Processing Record 85 for acapulco\n",
      "Processing Record 86 for atambua\n",
      "Processing Record 87 for ribeira grande\n",
      "Processing Record 88 for klaksvik\n",
      "Processing Record 89 for cabo san lucas\n",
      "Processing Record 90 for sao filipe\n",
      "Processing Record 91 for meybod\n",
      "Processing Record 92 for marawi\n",
      "Processing Record 93 for pisco\n",
      "City not found. Skipping.....\n",
      "Processing Record 93 for attawapiskat\n",
      "Processing Record 94 for sorgun\n",
      "Processing Record 95 for yellowknife\n",
      "Processing Record 96 for tuktoyaktuk\n",
      "Processing Record 97 for kaeo\n",
      "Processing Record 98 for savannah bight\n",
      "Processing Record 99 for palmer\n",
      "City not found. Skipping.....\n",
      "Processing Record 99 for tsihombe\n",
      "City not found. Skipping.....\n",
      "Processing Record 99 for nizhneyansk\n",
      "Processing Record 100 for tsiroanomandidy\n",
      "Processing Record 101 for bluff\n",
      "City not found. Skipping.....\n",
      "Processing Record 101 for tubruq\n",
      "Processing Record 102 for narsaq\n",
      "Processing Record 103 for dimona\n",
      "City not found. Skipping.....\n",
      "Processing Record 103 for samusu\n",
      "Processing Record 104 for miles city\n",
      "Processing Record 105 for henties bay\n",
      "Processing Record 106 for boa vista\n",
      "Processing Record 107 for winnemucca\n",
      "Processing Record 108 for miguel hidalgo\n",
      "Processing Record 109 for tambura\n",
      "Processing Record 110 for shirokiy\n",
      "Processing Record 111 for evensk\n",
      "Processing Record 112 for saint-georges\n",
      "Processing Record 113 for ulladulla\n",
      "Processing Record 114 for gladstone\n",
      "Processing Record 115 for palana\n",
      "Processing Record 116 for constitucion\n",
      "Processing Record 117 for luderitz\n",
      "Processing Record 118 for umm lajj\n",
      "Processing Record 119 for atuona\n",
      "Processing Record 120 for carnarvon\n",
      "Processing Record 121 for solothurn\n",
      "Processing Record 122 for turukhansk\n",
      "Processing Record 123 for karachi\n",
      "Processing Record 124 for dongying\n",
      "Processing Record 125 for avera\n",
      "Processing Record 126 for atar\n",
      "Processing Record 127 for sambava\n",
      "Processing Record 128 for northam\n",
      "Processing Record 129 for butaritari\n",
      "Processing Record 130 for yongzhou\n",
      "Processing Record 131 for comodoro rivadavia\n",
      "Processing Record 132 for konin\n",
      "Processing Record 133 for tazovskiy\n",
      "Processing Record 134 for savonlinna\n",
      "Processing Record 135 for joshimath\n",
      "Processing Record 136 for chuy\n",
      "Processing Record 137 for saint george\n",
      "Processing Record 138 for tiksi\n",
      "Processing Record 139 for caravelas\n",
      "Processing Record 140 for cabedelo\n",
      "Processing Record 141 for east london\n",
      "Processing Record 142 for bargi\n",
      "Processing Record 143 for svetlogorsk\n",
      "Processing Record 144 for saint-augustin\n",
      "Processing Record 145 for funadhoo\n",
      "Processing Record 146 for enzan\n",
      "Processing Record 147 for wuwei\n",
      "Processing Record 148 for cherbourg\n",
      "Processing Record 149 for lorengau\n",
      "Processing Record 150 for rongcheng\n",
      "City not found. Skipping.....\n",
      "Processing Record 150 for warqla\n",
      "Processing Record 151 for pakxan\n",
      "Processing Record 152 for chumikan\n",
      "Processing Record 153 for ambilobe\n",
      "Processing Record 154 for belen\n",
      "City not found. Skipping.....\n",
      "Processing Record 154 for vaitupu\n",
      "Processing Record 155 for kodiak\n",
      "Processing Record 156 for srednekolymsk\n",
      "Processing Record 157 for nikolskoye\n",
      "Processing Record 158 for nara\n",
      "Processing Record 159 for cayenne\n",
      "Processing Record 160 for hilo\n",
      "Processing Record 161 for hami\n",
      "Processing Record 162 for norman wells\n",
      "Processing Record 163 for labuhan\n",
      "Processing Record 164 for yarada\n",
      "Processing Record 165 for kruisfontein\n",
      "Processing Record 166 for celestun\n",
      "Processing Record 167 for faanui\n",
      "City not found. Skipping.....\n",
      "Processing Record 167 for bajo baudo\n",
      "Processing Record 168 for port blair\n",
      "Processing Record 169 for flinders\n",
      "Processing Record 170 for valenca do piaui\n",
      "Processing Record 171 for north bend\n",
      "Processing Record 172 for pacific grove\n",
      "Processing Record 173 for savalou\n",
      "Processing Record 174 for taltal\n",
      "Processing Record 175 for bairiki\n",
      "Processing Record 176 for marsa matruh\n"
     ]
    }
   ],
   "source": [
    "# set up lists to hold reponse info\n",
    "lat = []\n",
    "long= []\n",
    "temp = []\n",
    "maxtemp=[]\n",
    "humid=[]\n",
    "cloud=[]\n",
    "windsp=[]\n",
    "country=[]\n",
    "date=[]\n",
    "name=[]\n",
    "city_ct=0\n",
    "\n",
    "print('Beginning Data Retrieval')     \n",
    "print (\"-----------------------------\")\n",
    "# Loop through the list of cities and perform a request for data on each\n",
    "#set try/except to pass over the cities that are not found in the API (they will show as a KeyError)\n",
    "for city in cities:\n",
    "    try:\n",
    "        response = requests.get(query_url + city).json()\n",
    "        lat.append(response['coord']['lat'])\n",
    "        long.append(response['coord']['lon'])\n",
    "        maxtemp.append(response['main']['temp_max'])\n",
    "        humid.append(response['main']['humidity'])\n",
    "        cloud.append(response['clouds']['all'])\n",
    "        windsp.append(response['wind']['speed'])\n",
    "        country.append(response['sys']['country'])\n",
    "        date.append(response['dt'])\n",
    "        name.append(response['name'])\n",
    "        city_ct = city_ct + 1\n",
    "        if city_ct == 50:\n",
    "            time.sleep(30)\n",
    "    except KeyError:\n",
    "        print(\"City not found. Skipping.....\")\n",
    "        #pass\n",
    "        \n",
    "    #for city, value in cities.len():\n",
    "    print (f\"Processing Record {city_ct} for {city}\")"
   ]
  },
  {
   "cell_type": "code",
   "execution_count": 150,
   "metadata": {},
   "outputs": [
    {
     "data": {
      "text/html": [
       "<div>\n",
       "<style scoped>\n",
       "    .dataframe tbody tr th:only-of-type {\n",
       "        vertical-align: middle;\n",
       "    }\n",
       "\n",
       "    .dataframe tbody tr th {\n",
       "        vertical-align: top;\n",
       "    }\n",
       "\n",
       "    .dataframe thead th {\n",
       "        text-align: right;\n",
       "    }\n",
       "</style>\n",
       "<table border=\"1\" class=\"dataframe\">\n",
       "  <thead>\n",
       "    <tr style=\"text-align: right;\">\n",
       "      <th></th>\n",
       "      <th>City</th>\n",
       "      <th>Latitude</th>\n",
       "      <th>Longitude</th>\n",
       "      <th>Max Temperature</th>\n",
       "      <th>Humidity</th>\n",
       "      <th>Cloudiness</th>\n",
       "      <th>Wind Speed</th>\n",
       "      <th>Country</th>\n",
       "      <th>Date</th>\n",
       "    </tr>\n",
       "  </thead>\n",
       "  <tbody>\n",
       "    <tr>\n",
       "      <th>0</th>\n",
       "      <td>Newport News</td>\n",
       "      <td>36.9788</td>\n",
       "      <td>-76.4280</td>\n",
       "      <td>55.15</td>\n",
       "      <td>87</td>\n",
       "      <td>100</td>\n",
       "      <td>8.05</td>\n",
       "      <td>US</td>\n",
       "      <td>1643835507</td>\n",
       "    </tr>\n",
       "    <tr>\n",
       "      <th>1</th>\n",
       "      <td>Busselton</td>\n",
       "      <td>-33.6500</td>\n",
       "      <td>115.3333</td>\n",
       "      <td>66.04</td>\n",
       "      <td>49</td>\n",
       "      <td>100</td>\n",
       "      <td>14.92</td>\n",
       "      <td>AU</td>\n",
       "      <td>1643835761</td>\n",
       "    </tr>\n",
       "    <tr>\n",
       "      <th>2</th>\n",
       "      <td>Rikitea</td>\n",
       "      <td>-23.1203</td>\n",
       "      <td>-134.9692</td>\n",
       "      <td>78.17</td>\n",
       "      <td>73</td>\n",
       "      <td>100</td>\n",
       "      <td>5.37</td>\n",
       "      <td>PF</td>\n",
       "      <td>1643835761</td>\n",
       "    </tr>\n",
       "    <tr>\n",
       "      <th>3</th>\n",
       "      <td>Puerto Ayora</td>\n",
       "      <td>-0.7393</td>\n",
       "      <td>-90.3518</td>\n",
       "      <td>78.55</td>\n",
       "      <td>89</td>\n",
       "      <td>40</td>\n",
       "      <td>5.01</td>\n",
       "      <td>EC</td>\n",
       "      <td>1643835761</td>\n",
       "    </tr>\n",
       "    <tr>\n",
       "      <th>4</th>\n",
       "      <td>Latung</td>\n",
       "      <td>5.5000</td>\n",
       "      <td>120.8833</td>\n",
       "      <td>79.86</td>\n",
       "      <td>77</td>\n",
       "      <td>92</td>\n",
       "      <td>4.05</td>\n",
       "      <td>PH</td>\n",
       "      <td>1643835762</td>\n",
       "    </tr>\n",
       "    <tr>\n",
       "      <th>...</th>\n",
       "      <td>...</td>\n",
       "      <td>...</td>\n",
       "      <td>...</td>\n",
       "      <td>...</td>\n",
       "      <td>...</td>\n",
       "      <td>...</td>\n",
       "      <td>...</td>\n",
       "      <td>...</td>\n",
       "      <td>...</td>\n",
       "    </tr>\n",
       "    <tr>\n",
       "      <th>160</th>\n",
       "      <td>Saldanha</td>\n",
       "      <td>-33.0117</td>\n",
       "      <td>17.9442</td>\n",
       "      <td>66.45</td>\n",
       "      <td>85</td>\n",
       "      <td>96</td>\n",
       "      <td>6.64</td>\n",
       "      <td>ZA</td>\n",
       "      <td>1643835847</td>\n",
       "    </tr>\n",
       "    <tr>\n",
       "      <th>161</th>\n",
       "      <td>Ketchikan</td>\n",
       "      <td>55.3422</td>\n",
       "      <td>-131.6461</td>\n",
       "      <td>37.38</td>\n",
       "      <td>93</td>\n",
       "      <td>100</td>\n",
       "      <td>5.75</td>\n",
       "      <td>US</td>\n",
       "      <td>1643835847</td>\n",
       "    </tr>\n",
       "    <tr>\n",
       "      <th>162</th>\n",
       "      <td>New Norfolk</td>\n",
       "      <td>-42.7826</td>\n",
       "      <td>147.0587</td>\n",
       "      <td>56.75</td>\n",
       "      <td>62</td>\n",
       "      <td>67</td>\n",
       "      <td>1.01</td>\n",
       "      <td>AU</td>\n",
       "      <td>1643835848</td>\n",
       "    </tr>\n",
       "    <tr>\n",
       "      <th>163</th>\n",
       "      <td>Saskylakh</td>\n",
       "      <td>71.9167</td>\n",
       "      <td>114.0833</td>\n",
       "      <td>-30.06</td>\n",
       "      <td>100</td>\n",
       "      <td>29</td>\n",
       "      <td>2.71</td>\n",
       "      <td>RU</td>\n",
       "      <td>1643835848</td>\n",
       "    </tr>\n",
       "    <tr>\n",
       "      <th>164</th>\n",
       "      <td>Thunder Bay</td>\n",
       "      <td>48.4001</td>\n",
       "      <td>-89.3168</td>\n",
       "      <td>5.56</td>\n",
       "      <td>51</td>\n",
       "      <td>64</td>\n",
       "      <td>5.01</td>\n",
       "      <td>CA</td>\n",
       "      <td>1643835849</td>\n",
       "    </tr>\n",
       "  </tbody>\n",
       "</table>\n",
       "<p>165 rows × 9 columns</p>\n",
       "</div>"
      ],
      "text/plain": [
       "             City  Latitude  Longitude  Max Temperature  Humidity  Cloudiness  \\\n",
       "0    Newport News   36.9788   -76.4280            55.15        87         100   \n",
       "1       Busselton  -33.6500   115.3333            66.04        49         100   \n",
       "2         Rikitea  -23.1203  -134.9692            78.17        73         100   \n",
       "3    Puerto Ayora   -0.7393   -90.3518            78.55        89          40   \n",
       "4          Latung    5.5000   120.8833            79.86        77          92   \n",
       "..            ...       ...        ...              ...       ...         ...   \n",
       "160      Saldanha  -33.0117    17.9442            66.45        85          96   \n",
       "161     Ketchikan   55.3422  -131.6461            37.38        93         100   \n",
       "162   New Norfolk  -42.7826   147.0587            56.75        62          67   \n",
       "163     Saskylakh   71.9167   114.0833           -30.06       100          29   \n",
       "164   Thunder Bay   48.4001   -89.3168             5.56        51          64   \n",
       "\n",
       "     Wind Speed Country        Date  \n",
       "0          8.05      US  1643835507  \n",
       "1         14.92      AU  1643835761  \n",
       "2          5.37      PF  1643835761  \n",
       "3          5.01      EC  1643835761  \n",
       "4          4.05      PH  1643835762  \n",
       "..          ...     ...         ...  \n",
       "160        6.64      ZA  1643835847  \n",
       "161        5.75      US  1643835847  \n",
       "162        1.01      AU  1643835848  \n",
       "163        2.71      RU  1643835848  \n",
       "164        5.01      CA  1643835849  \n",
       "\n",
       "[165 rows x 9 columns]"
      ]
     },
     "execution_count": 150,
     "metadata": {},
     "output_type": "execute_result"
    }
   ],
   "source": [
    "city_dict={\n",
    "    \"City\": name,\n",
    "    \"Latitude\": lat,\n",
    "    \"Longitude\": long,\n",
    "    \"Max Temperature\": maxtemp,\n",
    "    \"Humidity\": humid,\n",
    "    \"Cloudiness\": cloud,\n",
    "    \"Wind Speed\": windsp,\n",
    "    \"Country\": country,\n",
    "    \"Date\": date,\n",
    "}\n",
    "city_data_pd= pd.DataFrame(city_dict)\n",
    "city_data_pd"
   ]
  },
  {
   "cell_type": "code",
   "execution_count": null,
   "metadata": {
    "scrolled": true
   },
   "outputs": [],
   "source": []
  },
  {
   "cell_type": "markdown",
   "metadata": {},
   "source": [
    "### Convert Raw Data to DataFrame\n",
    "* Export the city data into a .csv.\n",
    "* Display the DataFrame"
   ]
  },
  {
   "cell_type": "code",
   "execution_count": 2,
   "metadata": {},
   "outputs": [
    {
     "ename": "NameError",
     "evalue": "name 'name' is not defined",
     "output_type": "error",
     "traceback": [
      "\u001b[0;31m---------------------------------------------------------------------------\u001b[0m",
      "\u001b[0;31mNameError\u001b[0m                                 Traceback (most recent call last)",
      "\u001b[0;32m/var/folders/qc/_ykx45d102d0nr51ysx4tb4h0000gn/T/ipykernel_23863/3704477645.py\u001b[0m in \u001b[0;36m<module>\u001b[0;34m\u001b[0m\n\u001b[1;32m      1\u001b[0m city_dict={\n\u001b[0;32m----> 2\u001b[0;31m     \u001b[0;34m\"City\"\u001b[0m\u001b[0;34m:\u001b[0m \u001b[0mname\u001b[0m\u001b[0;34m,\u001b[0m\u001b[0;34m\u001b[0m\u001b[0;34m\u001b[0m\u001b[0m\n\u001b[0m\u001b[1;32m      3\u001b[0m     \u001b[0;34m\"Latitude\"\u001b[0m\u001b[0;34m:\u001b[0m \u001b[0mlat\u001b[0m\u001b[0;34m,\u001b[0m\u001b[0;34m\u001b[0m\u001b[0;34m\u001b[0m\u001b[0m\n\u001b[1;32m      4\u001b[0m     \u001b[0;34m\"Longitude\"\u001b[0m\u001b[0;34m:\u001b[0m \u001b[0mlong\u001b[0m\u001b[0;34m,\u001b[0m\u001b[0;34m\u001b[0m\u001b[0;34m\u001b[0m\u001b[0m\n\u001b[1;32m      5\u001b[0m     \u001b[0;34m\"Max Temperature\"\u001b[0m\u001b[0;34m:\u001b[0m \u001b[0mmaxtemp\u001b[0m\u001b[0;34m,\u001b[0m\u001b[0;34m\u001b[0m\u001b[0;34m\u001b[0m\u001b[0m\n",
      "\u001b[0;31mNameError\u001b[0m: name 'name' is not defined"
     ]
    }
   ],
   "source": [
    "city_dict={\n",
    "    \"City\": name,\n",
    "    \"Latitude\": lat,\n",
    "    \"Longitude\": long,\n",
    "    \"Max Temperature\": maxtemp,\n",
    "    \"Humidity\": humid,\n",
    "    \"Cloudiness\": cloud,\n",
    "    \"Wind Speed\": windsp,\n",
    "    \"Country\": country,\n",
    "    \"Date\": date,\n",
    "}\n",
    "city_data_pd= pd.DataFrame(city_dict)\n",
    "city_data_pd"
   ]
  },
  {
   "cell_type": "code",
   "execution_count": 1,
   "metadata": {},
   "outputs": [
    {
     "ename": "NameError",
     "evalue": "name 'city_data_pd' is not defined",
     "output_type": "error",
     "traceback": [
      "\u001b[0;31m---------------------------------------------------------------------------\u001b[0m",
      "\u001b[0;31mNameError\u001b[0m                                 Traceback (most recent call last)",
      "\u001b[0;32m/var/folders/qc/_ykx45d102d0nr51ysx4tb4h0000gn/T/ipykernel_23863/53516227.py\u001b[0m in \u001b[0;36m<module>\u001b[0;34m\u001b[0m\n\u001b[0;32m----> 1\u001b[0;31m \u001b[0mcity_data_pd\u001b[0m\u001b[0;34m.\u001b[0m\u001b[0mto_csv\u001b[0m\u001b[0;34m(\u001b[0m\u001b[0;34m\"output_data/cities.csv\"\u001b[0m\u001b[0;34m,\u001b[0m \u001b[0mencoding\u001b[0m\u001b[0;34m=\u001b[0m\u001b[0;34m\"utf-8\"\u001b[0m\u001b[0;34m,\u001b[0m \u001b[0mindex\u001b[0m\u001b[0;34m=\u001b[0m\u001b[0;32mFalse\u001b[0m\u001b[0;34m)\u001b[0m\u001b[0;34m\u001b[0m\u001b[0;34m\u001b[0m\u001b[0m\n\u001b[0m",
      "\u001b[0;31mNameError\u001b[0m: name 'city_data_pd' is not defined"
     ]
    }
   ],
   "source": [
    "city_data_pd.to_csv(\"output_data/cities.csv\", encoding=\"utf-8\", index=False)"
   ]
  },
  {
   "cell_type": "markdown",
   "metadata": {},
   "source": [
    "## Inspect the data and remove the cities where the humidity > 100%.\n",
    "----\n",
    "Skip this step if there are no cities that have humidity > 100%. "
   ]
  },
  {
   "cell_type": "code",
   "execution_count": 165,
   "metadata": {},
   "outputs": [
    {
     "data": {
      "text/html": [
       "<div>\n",
       "<style scoped>\n",
       "    .dataframe tbody tr th:only-of-type {\n",
       "        vertical-align: middle;\n",
       "    }\n",
       "\n",
       "    .dataframe tbody tr th {\n",
       "        vertical-align: top;\n",
       "    }\n",
       "\n",
       "    .dataframe thead th {\n",
       "        text-align: right;\n",
       "    }\n",
       "</style>\n",
       "<table border=\"1\" class=\"dataframe\">\n",
       "  <thead>\n",
       "    <tr style=\"text-align: right;\">\n",
       "      <th></th>\n",
       "      <th>City</th>\n",
       "      <th>Latitude</th>\n",
       "      <th>Longitude</th>\n",
       "      <th>Max Temperature</th>\n",
       "      <th>Humidity</th>\n",
       "      <th>Cloudiness</th>\n",
       "      <th>Wind Speed</th>\n",
       "      <th>Country</th>\n",
       "      <th>Date</th>\n",
       "    </tr>\n",
       "  </thead>\n",
       "  <tbody>\n",
       "    <tr>\n",
       "      <th>0</th>\n",
       "      <td>Newport News</td>\n",
       "      <td>36.9788</td>\n",
       "      <td>-76.4280</td>\n",
       "      <td>55.15</td>\n",
       "      <td>87</td>\n",
       "      <td>100</td>\n",
       "      <td>8.05</td>\n",
       "      <td>US</td>\n",
       "      <td>1643835507</td>\n",
       "    </tr>\n",
       "    <tr>\n",
       "      <th>1</th>\n",
       "      <td>Busselton</td>\n",
       "      <td>-33.6500</td>\n",
       "      <td>115.3333</td>\n",
       "      <td>66.04</td>\n",
       "      <td>49</td>\n",
       "      <td>100</td>\n",
       "      <td>14.92</td>\n",
       "      <td>AU</td>\n",
       "      <td>1643835761</td>\n",
       "    </tr>\n",
       "    <tr>\n",
       "      <th>2</th>\n",
       "      <td>Rikitea</td>\n",
       "      <td>-23.1203</td>\n",
       "      <td>-134.9692</td>\n",
       "      <td>78.17</td>\n",
       "      <td>73</td>\n",
       "      <td>100</td>\n",
       "      <td>5.37</td>\n",
       "      <td>PF</td>\n",
       "      <td>1643835761</td>\n",
       "    </tr>\n",
       "    <tr>\n",
       "      <th>3</th>\n",
       "      <td>Puerto Ayora</td>\n",
       "      <td>-0.7393</td>\n",
       "      <td>-90.3518</td>\n",
       "      <td>78.55</td>\n",
       "      <td>89</td>\n",
       "      <td>40</td>\n",
       "      <td>5.01</td>\n",
       "      <td>EC</td>\n",
       "      <td>1643835761</td>\n",
       "    </tr>\n",
       "    <tr>\n",
       "      <th>4</th>\n",
       "      <td>Latung</td>\n",
       "      <td>5.5000</td>\n",
       "      <td>120.8833</td>\n",
       "      <td>79.86</td>\n",
       "      <td>77</td>\n",
       "      <td>92</td>\n",
       "      <td>4.05</td>\n",
       "      <td>PH</td>\n",
       "      <td>1643835762</td>\n",
       "    </tr>\n",
       "    <tr>\n",
       "      <th>...</th>\n",
       "      <td>...</td>\n",
       "      <td>...</td>\n",
       "      <td>...</td>\n",
       "      <td>...</td>\n",
       "      <td>...</td>\n",
       "      <td>...</td>\n",
       "      <td>...</td>\n",
       "      <td>...</td>\n",
       "      <td>...</td>\n",
       "    </tr>\n",
       "    <tr>\n",
       "      <th>159</th>\n",
       "      <td>Daru</td>\n",
       "      <td>-9.0763</td>\n",
       "      <td>143.2092</td>\n",
       "      <td>74.52</td>\n",
       "      <td>83</td>\n",
       "      <td>100</td>\n",
       "      <td>5.68</td>\n",
       "      <td>PG</td>\n",
       "      <td>1643835846</td>\n",
       "    </tr>\n",
       "    <tr>\n",
       "      <th>160</th>\n",
       "      <td>Saldanha</td>\n",
       "      <td>-33.0117</td>\n",
       "      <td>17.9442</td>\n",
       "      <td>66.45</td>\n",
       "      <td>85</td>\n",
       "      <td>96</td>\n",
       "      <td>6.64</td>\n",
       "      <td>ZA</td>\n",
       "      <td>1643835847</td>\n",
       "    </tr>\n",
       "    <tr>\n",
       "      <th>161</th>\n",
       "      <td>Ketchikan</td>\n",
       "      <td>55.3422</td>\n",
       "      <td>-131.6461</td>\n",
       "      <td>37.38</td>\n",
       "      <td>93</td>\n",
       "      <td>100</td>\n",
       "      <td>5.75</td>\n",
       "      <td>US</td>\n",
       "      <td>1643835847</td>\n",
       "    </tr>\n",
       "    <tr>\n",
       "      <th>162</th>\n",
       "      <td>New Norfolk</td>\n",
       "      <td>-42.7826</td>\n",
       "      <td>147.0587</td>\n",
       "      <td>56.75</td>\n",
       "      <td>62</td>\n",
       "      <td>67</td>\n",
       "      <td>1.01</td>\n",
       "      <td>AU</td>\n",
       "      <td>1643835848</td>\n",
       "    </tr>\n",
       "    <tr>\n",
       "      <th>164</th>\n",
       "      <td>Thunder Bay</td>\n",
       "      <td>48.4001</td>\n",
       "      <td>-89.3168</td>\n",
       "      <td>5.56</td>\n",
       "      <td>51</td>\n",
       "      <td>64</td>\n",
       "      <td>5.01</td>\n",
       "      <td>CA</td>\n",
       "      <td>1643835849</td>\n",
       "    </tr>\n",
       "  </tbody>\n",
       "</table>\n",
       "<p>159 rows × 9 columns</p>\n",
       "</div>"
      ],
      "text/plain": [
       "             City  Latitude  Longitude  Max Temperature  Humidity  Cloudiness  \\\n",
       "0    Newport News   36.9788   -76.4280            55.15        87         100   \n",
       "1       Busselton  -33.6500   115.3333            66.04        49         100   \n",
       "2         Rikitea  -23.1203  -134.9692            78.17        73         100   \n",
       "3    Puerto Ayora   -0.7393   -90.3518            78.55        89          40   \n",
       "4          Latung    5.5000   120.8833            79.86        77          92   \n",
       "..            ...       ...        ...              ...       ...         ...   \n",
       "159          Daru   -9.0763   143.2092            74.52        83         100   \n",
       "160      Saldanha  -33.0117    17.9442            66.45        85          96   \n",
       "161     Ketchikan   55.3422  -131.6461            37.38        93         100   \n",
       "162   New Norfolk  -42.7826   147.0587            56.75        62          67   \n",
       "164   Thunder Bay   48.4001   -89.3168             5.56        51          64   \n",
       "\n",
       "     Wind Speed Country        Date  \n",
       "0          8.05      US  1643835507  \n",
       "1         14.92      AU  1643835761  \n",
       "2          5.37      PF  1643835761  \n",
       "3          5.01      EC  1643835761  \n",
       "4          4.05      PH  1643835762  \n",
       "..          ...     ...         ...  \n",
       "159        5.68      PG  1643835846  \n",
       "160        6.64      ZA  1643835847  \n",
       "161        5.75      US  1643835847  \n",
       "162        1.01      AU  1643835848  \n",
       "164        5.01      CA  1643835849  \n",
       "\n",
       "[159 rows x 9 columns]"
      ]
     },
     "execution_count": 165,
     "metadata": {},
     "output_type": "execute_result"
    }
   ],
   "source": [
    "#reduce the dataset by only taking the cities that have a humidity less than 100%\n",
    "#rather than dropping the ones that dont meet the desired conditions, keep the ones that do   \n",
    "\n",
    "clean_city_data=city_data_pd[city_data_pd[\"Humidity\"] < 100]\n",
    "clean_city_data"
   ]
  },
  {
   "cell_type": "markdown",
   "metadata": {},
   "source": [
    "## Plotting the Data\n",
    "* Use proper labeling of the plots using plot titles (including date of analysis) and axes labels.\n",
    "* Save the plotted figures as .pngs."
   ]
  },
  {
   "cell_type": "markdown",
   "metadata": {},
   "source": [
    "## Latitude vs. Temperature Plot"
   ]
  },
  {
   "cell_type": "code",
   "execution_count": 153,
   "metadata": {
    "scrolled": true
   },
   "outputs": [
    {
     "data": {
      "image/png": "[encoded data removed]",
      "text/plain": [
       "<Figure size 432x288 with 1 Axes>"
      ]
     },
     "metadata": {
      "needs_background": "light"
     },
     "output_type": "display_data"
    }
   ],
   "source": [
    "x_values = clean_city_data['Latitude']\n",
    "y_values = clean_city_data['Max Temperature']\n",
    "\n",
    "plt.scatter(x_values,y_values)\n",
    "plt.xlabel('Latitude')\n",
    "plt.ylabel('Temperature')\n",
    "plt.show()"
   ]
  },
  {
   "cell_type": "markdown",
   "metadata": {},
   "source": [
    "## Latitude vs. Humidity Plot"
   ]
  },
  {
   "cell_type": "code",
   "execution_count": 154,
   "metadata": {},
   "outputs": [
    {
     "data": {
      "image/png": "[encoded data removed]",
      "text/plain": [
       "<Figure size 432x288 with 1 Axes>"
      ]
     },
     "metadata": {
      "needs_background": "light"
     },
     "output_type": "display_data"
    }
   ],
   "source": [
    "x_values = clean_city_data['Latitude']\n",
    "h_values = clean_city_data['Humidity']\n",
    "\n",
    "plt.scatter(x_values,h_values)\n",
    "plt.xlabel('Latitude')\n",
    "plt.ylabel('Humidity')\n",
    "plt.show()"
   ]
  },
  {
   "cell_type": "markdown",
   "metadata": {},
   "source": [
    "## Latitude vs. Cloudiness Plot"
   ]
  },
  {
   "cell_type": "code",
   "execution_count": 155,
   "metadata": {},
   "outputs": [
    {
     "data": {
      "image/png": "[encoded data removed]",
      "text/plain": [
       "<Figure size 432x288 with 1 Axes>"
      ]
     },
     "metadata": {
      "needs_background": "light"
     },
     "output_type": "display_data"
    }
   ],
   "source": [
    "x_values = clean_city_data['Latitude']\n",
    "c_values = clean_city_data['Cloudiness']\n",
    "\n",
    "plt.scatter(x_values,c_values)\n",
    "plt.xlabel('Latitude')\n",
    "plt.ylabel('Cloudiness')\n",
    "plt.show()"
   ]
  },
  {
   "cell_type": "markdown",
   "metadata": {},
   "source": [
    "## Latitude vs. Wind Speed Plot"
   ]
  },
  {
   "cell_type": "code",
   "execution_count": 156,
   "metadata": {},
   "outputs": [
    {
     "data": {
      "image/png": "[encoded data removed]",
      "text/plain": [
       "<Figure size 432x288 with 1 Axes>"
      ]
     },
     "metadata": {
      "needs_background": "light"
     },
     "output_type": "display_data"
    }
   ],
   "source": [
    "x_values = clean_city_data['Latitude']\n",
    "w_values = clean_city_data['Wind Speed']\n",
    "\n",
    "plt.scatter(x_values,w_values)\n",
    "plt.xlabel('Latitude')\n",
    "plt.ylabel('Wind Speed')\n",
    "plt.show()"
   ]
  },
  {
   "cell_type": "markdown",
   "metadata": {},
   "source": [
    "## Linear Regression"
   ]
  },
  {
   "cell_type": "code",
   "execution_count": 157,
   "metadata": {},
   "outputs": [
    {
     "name": "stdout",
     "output_type": "stream",
     "text": [
      "The r-value is: 0.6036825763827486\n"
     ]
    },
    {
     "data": {
      "image/png": "[encoded data removed]",
      "text/plain": [
       "<Figure size 432x288 with 1 Axes>"
      ]
     },
     "metadata": {
      "needs_background": "light"
     },
     "output_type": "display_data"
    }
   ],
   "source": [
    "x_values = clean_city_data['Latitude']\n",
    "y_values = clean_city_data['Max Temperature']\n",
    "\n",
    "# Perform a linear regression on temperature vs. latitude\n",
    "(slope, intercept, rvalue, pvalue, stderr) = stats.linregress(x_values, y_values)\n",
    "\n",
    "# Get regression values\n",
    "regress_values = x_values * slope + intercept\n",
    "\n",
    "# Create line equation string\n",
    "line_eq = \"y = \" + str(round(slope,2)) + \"x +\" + str(round(intercept,2))\n",
    "\n",
    "# Create Plot\n",
    "plt.scatter(x_values,y_values)\n",
    "plt.plot(x_values,regress_values,\"r-\")\n",
    "\n",
    "# Label plot and annotate the line equation\n",
    "plt.xlabel('Latitude')\n",
    "plt.ylabel('Temperature')\n",
    "plt.annotate(line_eq,(20,15),fontsize=15,color=\"red\")\n",
    "\n",
    "\n",
    "\n",
    "# Print r value\n",
    "print(f\"The r-value is: {rvalue**2}\")\n",
    "\n",
    "# Show plot\n",
    "plt.show()"
   ]
  },
  {
   "cell_type": "markdown",
   "metadata": {},
   "source": [
    "####  Northern Hemisphere - Max Temp vs. Latitude Linear Regression"
   ]
  },
  {
   "cell_type": "code",
   "execution_count": 144,
   "metadata": {},
   "outputs": [],
   "source": [
    "#Filter together northern and southern hemispheres into their own DF's\n",
    "northern_df=clean_city_data.loc[clean_city_data[\"Latitude\"] >=0,:]\n",
    "southern_df=clean_city_data.loc[clean_city_data[\"Latitude\"] <0,:]\n",
    "\n"
   ]
  },
  {
   "cell_type": "code",
   "execution_count": 145,
   "metadata": {},
   "outputs": [
    {
     "data": {
      "text/html": [
       "<div>\n",
       "<style scoped>\n",
       "    .dataframe tbody tr th:only-of-type {\n",
       "        vertical-align: middle;\n",
       "    }\n",
       "\n",
       "    .dataframe tbody tr th {\n",
       "        vertical-align: top;\n",
       "    }\n",
       "\n",
       "    .dataframe thead th {\n",
       "        text-align: right;\n",
       "    }\n",
       "</style>\n",
       "<table border=\"1\" class=\"dataframe\">\n",
       "  <thead>\n",
       "    <tr style=\"text-align: right;\">\n",
       "      <th></th>\n",
       "      <th>City</th>\n",
       "      <th>Latitude</th>\n",
       "      <th>Longitude</th>\n",
       "      <th>Max Temperature</th>\n",
       "      <th>Humidity</th>\n",
       "      <th>Cloudiness</th>\n",
       "      <th>Wind Speed</th>\n",
       "      <th>Country</th>\n",
       "      <th>Date</th>\n",
       "    </tr>\n",
       "  </thead>\n",
       "  <tbody>\n",
       "    <tr>\n",
       "      <th>0</th>\n",
       "      <td>Vostok</td>\n",
       "      <td>46.4856</td>\n",
       "      <td>135.8833</td>\n",
       "      <td>-5.91</td>\n",
       "      <td>99</td>\n",
       "      <td>100</td>\n",
       "      <td>3.56</td>\n",
       "      <td>RU</td>\n",
       "      <td>1643834476</td>\n",
       "    </tr>\n",
       "    <tr>\n",
       "      <th>3</th>\n",
       "      <td>Tubualá</td>\n",
       "      <td>9.5167</td>\n",
       "      <td>-79.0333</td>\n",
       "      <td>90.34</td>\n",
       "      <td>73</td>\n",
       "      <td>14</td>\n",
       "      <td>9.22</td>\n",
       "      <td>PA</td>\n",
       "      <td>1643834477</td>\n",
       "    </tr>\n",
       "    <tr>\n",
       "      <th>4</th>\n",
       "      <td>Hilo</td>\n",
       "      <td>19.7297</td>\n",
       "      <td>-155.0900</td>\n",
       "      <td>78.53</td>\n",
       "      <td>69</td>\n",
       "      <td>40</td>\n",
       "      <td>0.00</td>\n",
       "      <td>US</td>\n",
       "      <td>1643834477</td>\n",
       "    </tr>\n",
       "    <tr>\n",
       "      <th>5</th>\n",
       "      <td>Chokurdakh</td>\n",
       "      <td>70.6333</td>\n",
       "      <td>147.9167</td>\n",
       "      <td>-18.92</td>\n",
       "      <td>97</td>\n",
       "      <td>100</td>\n",
       "      <td>6.24</td>\n",
       "      <td>RU</td>\n",
       "      <td>1643834478</td>\n",
       "    </tr>\n",
       "    <tr>\n",
       "      <th>6</th>\n",
       "      <td>Albany</td>\n",
       "      <td>42.6001</td>\n",
       "      <td>-73.9662</td>\n",
       "      <td>45.73</td>\n",
       "      <td>72</td>\n",
       "      <td>77</td>\n",
       "      <td>3.00</td>\n",
       "      <td>US</td>\n",
       "      <td>1643833801</td>\n",
       "    </tr>\n",
       "  </tbody>\n",
       "</table>\n",
       "</div>"
      ],
      "text/plain": [
       "         City  Latitude  Longitude  Max Temperature  Humidity  Cloudiness  \\\n",
       "0      Vostok   46.4856   135.8833            -5.91        99         100   \n",
       "3     Tubualá    9.5167   -79.0333            90.34        73          14   \n",
       "4        Hilo   19.7297  -155.0900            78.53        69          40   \n",
       "5  Chokurdakh   70.6333   147.9167           -18.92        97         100   \n",
       "6      Albany   42.6001   -73.9662            45.73        72          77   \n",
       "\n",
       "   Wind Speed Country        Date  \n",
       "0        3.56      RU  1643834476  \n",
       "3        9.22      PA  1643834477  \n",
       "4        0.00      US  1643834477  \n",
       "5        6.24      RU  1643834478  \n",
       "6        3.00      US  1643833801  "
      ]
     },
     "execution_count": 145,
     "metadata": {},
     "output_type": "execute_result"
    }
   ],
   "source": [
    "northern_df.head()"
   ]
  },
  {
   "cell_type": "code",
   "execution_count": 146,
   "metadata": {},
   "outputs": [
    {
     "data": {
      "text/html": [
       "<div>\n",
       "<style scoped>\n",
       "    .dataframe tbody tr th:only-of-type {\n",
       "        vertical-align: middle;\n",
       "    }\n",
       "\n",
       "    .dataframe tbody tr th {\n",
       "        vertical-align: top;\n",
       "    }\n",
       "\n",
       "    .dataframe thead th {\n",
       "        text-align: right;\n",
       "    }\n",
       "</style>\n",
       "<table border=\"1\" class=\"dataframe\">\n",
       "  <thead>\n",
       "    <tr style=\"text-align: right;\">\n",
       "      <th></th>\n",
       "      <th>City</th>\n",
       "      <th>Latitude</th>\n",
       "      <th>Longitude</th>\n",
       "      <th>Max Temperature</th>\n",
       "      <th>Humidity</th>\n",
       "      <th>Cloudiness</th>\n",
       "      <th>Wind Speed</th>\n",
       "      <th>Country</th>\n",
       "      <th>Date</th>\n",
       "    </tr>\n",
       "  </thead>\n",
       "  <tbody>\n",
       "    <tr>\n",
       "      <th>1</th>\n",
       "      <td>Busselton</td>\n",
       "      <td>-33.6500</td>\n",
       "      <td>115.3333</td>\n",
       "      <td>66.04</td>\n",
       "      <td>49</td>\n",
       "      <td>100</td>\n",
       "      <td>14.92</td>\n",
       "      <td>AU</td>\n",
       "      <td>1643834476</td>\n",
       "    </tr>\n",
       "    <tr>\n",
       "      <th>2</th>\n",
       "      <td>Mataura</td>\n",
       "      <td>-46.1927</td>\n",
       "      <td>168.8643</td>\n",
       "      <td>57.47</td>\n",
       "      <td>98</td>\n",
       "      <td>100</td>\n",
       "      <td>4.25</td>\n",
       "      <td>NZ</td>\n",
       "      <td>1643834477</td>\n",
       "    </tr>\n",
       "    <tr>\n",
       "      <th>10</th>\n",
       "      <td>Huarmey</td>\n",
       "      <td>-10.0681</td>\n",
       "      <td>-78.1522</td>\n",
       "      <td>76.19</td>\n",
       "      <td>69</td>\n",
       "      <td>53</td>\n",
       "      <td>13.69</td>\n",
       "      <td>PE</td>\n",
       "      <td>1643834479</td>\n",
       "    </tr>\n",
       "    <tr>\n",
       "      <th>15</th>\n",
       "      <td>Vaini</td>\n",
       "      <td>-21.2000</td>\n",
       "      <td>-175.2000</td>\n",
       "      <td>84.36</td>\n",
       "      <td>79</td>\n",
       "      <td>40</td>\n",
       "      <td>5.75</td>\n",
       "      <td>TO</td>\n",
       "      <td>1643834481</td>\n",
       "    </tr>\n",
       "    <tr>\n",
       "      <th>17</th>\n",
       "      <td>Mangaratiba</td>\n",
       "      <td>-22.9597</td>\n",
       "      <td>-44.0406</td>\n",
       "      <td>78.03</td>\n",
       "      <td>90</td>\n",
       "      <td>99</td>\n",
       "      <td>2.95</td>\n",
       "      <td>BR</td>\n",
       "      <td>1643834481</td>\n",
       "    </tr>\n",
       "  </tbody>\n",
       "</table>\n",
       "</div>"
      ],
      "text/plain": [
       "           City  Latitude  Longitude  Max Temperature  Humidity  Cloudiness  \\\n",
       "1     Busselton  -33.6500   115.3333            66.04        49         100   \n",
       "2       Mataura  -46.1927   168.8643            57.47        98         100   \n",
       "10      Huarmey  -10.0681   -78.1522            76.19        69          53   \n",
       "15        Vaini  -21.2000  -175.2000            84.36        79          40   \n",
       "17  Mangaratiba  -22.9597   -44.0406            78.03        90          99   \n",
       "\n",
       "    Wind Speed Country        Date  \n",
       "1        14.92      AU  1643834476  \n",
       "2         4.25      NZ  1643834477  \n",
       "10       13.69      PE  1643834479  \n",
       "15        5.75      TO  1643834481  \n",
       "17        2.95      BR  1643834481  "
      ]
     },
     "execution_count": 146,
     "metadata": {},
     "output_type": "execute_result"
    }
   ],
   "source": [
    "southern_df.head()"
   ]
  },
  {
   "cell_type": "code",
   "execution_count": 158,
   "metadata": {},
   "outputs": [
    {
     "name": "stdout",
     "output_type": "stream",
     "text": [
      "The r-value is: 0.8637674306217462\n"
     ]
    },
    {
     "data": {
      "image/png": "[encoded data removed]",
      "text/plain": [
       "<Figure size 432x288 with 1 Axes>"
      ]
     },
     "metadata": {
      "needs_background": "light"
     },
     "output_type": "display_data"
    }
   ],
   "source": [
    "x_values = northern_df['Latitude']\n",
    "y_values = northern_df['Max Temperature']\n",
    "\n",
    "# Perform a linear regression on temperature vs. latitude\n",
    "(slope, intercept, rvalue, pvalue, stderr) = stats.linregress(x_values, y_values)\n",
    "\n",
    "# Get regression values\n",
    "regress_values = x_values * slope + intercept\n",
    "\n",
    "# Create line equation string\n",
    "line_eq = \"y = \" + str(round(slope,2)) + \"x +\" + str(round(intercept,2))\n",
    "\n",
    "# Create Plot\n",
    "plt.scatter(x_values,y_values)\n",
    "plt.plot(x_values,regress_values,\"r-\")\n",
    "\n",
    "# Label plot and annotate the line equation\n",
    "plt.xlabel('Latitude')\n",
    "plt.ylabel('Temperature')\n",
    "plt.annotate(line_eq,(20,15),fontsize=15,color=\"red\")\n",
    "\n",
    "\n",
    "\n",
    "# Print r value\n",
    "print(f\"The r-value is: {rvalue**2}\")\n",
    "\n",
    "# Show plot\n",
    "plt.show()"
   ]
  },
  {
   "cell_type": "markdown",
   "metadata": {},
   "source": [
    "####  Southern Hemisphere - Max Temp vs. Latitude Linear Regression"
   ]
  },
  {
   "cell_type": "code",
   "execution_count": 160,
   "metadata": {},
   "outputs": [
    {
     "name": "stdout",
     "output_type": "stream",
     "text": [
      "The r-value is: 0.5509592376978723\n"
     ]
    },
    {
     "data": {
      "image/png": "[encoded data removed]",
      "text/plain": [
       "<Figure size 432x288 with 1 Axes>"
      ]
     },
     "metadata": {
      "needs_background": "light"
     },
     "output_type": "display_data"
    }
   ],
   "source": [
    "x_values = southern_df['Latitude']\n",
    "y_values = southern_df['Max Temperature']\n",
    "\n",
    "# Perform a linear regression on temperature vs. latitude\n",
    "(slope, intercept, rvalue, pvalue, stderr) = stats.linregress(x_values, y_values)\n",
    "\n",
    "# Get regression values\n",
    "regress_values = x_values * slope + intercept\n",
    "\n",
    "# Create line equation string\n",
    "line_eq = \"y = \" + str(round(slope,2)) + \"x +\" + str(round(intercept,2))\n",
    "\n",
    "# Create Plot\n",
    "plt.scatter(x_values,y_values)\n",
    "plt.plot(x_values,regress_values,\"r-\")\n",
    "\n",
    "# Label plot and annotate the line equation\n",
    "plt.xlabel('Latitude')\n",
    "plt.ylabel('Temperature')\n",
    "plt.annotate(line_eq,(20,15),fontsize=15,color=\"red\")\n",
    "\n",
    "\n",
    "\n",
    "# Print r value\n",
    "print(f\"The r-value is: {rvalue**2}\")\n",
    "\n",
    "# Show plot\n",
    "plt.show()"
   ]
  },
  {
   "cell_type": "markdown",
   "metadata": {},
   "source": [
    "####  Northern Hemisphere - Humidity (%) vs. Latitude Linear Regression"
   ]
  },
  {
   "cell_type": "code",
   "execution_count": 161,
   "metadata": {},
   "outputs": [
    {
     "name": "stdout",
     "output_type": "stream",
     "text": [
      "The r-value is: 0.16777444538812394\n"
     ]
    },
    {
     "data": {
      "image/png": "[encoded data removed]",
      "text/plain": [
       "<Figure size 432x288 with 1 Axes>"
      ]
     },
     "metadata": {
      "needs_background": "light"
     },
     "output_type": "display_data"
    }
   ],
   "source": [
    "x_values = northern_df['Latitude']\n",
    "h_values = northern_df['Humidity']\n",
    "\n",
    "# Perform a linear regression on temperature vs. latitude\n",
    "(slope, intercept, rvalue, pvalue, stderr) = stats.linregress(x_values, h_values)\n",
    "\n",
    "# Get regression values\n",
    "regress_values = x_values * slope + intercept\n",
    "\n",
    "# Create line equation string\n",
    "line_eq = \"y = \" + str(round(slope,2)) + \"x +\" + str(round(intercept,2))\n",
    "\n",
    "# Create Plot\n",
    "plt.scatter(x_values,h_values)\n",
    "plt.plot(x_values,regress_values,\"r-\")\n",
    "\n",
    "# Label plot and annotate the line equation\n",
    "plt.xlabel('Humidity')\n",
    "plt.ylabel('Temperature')\n",
    "plt.annotate(line_eq,(20,15),fontsize=15,color=\"red\")\n",
    "\n",
    "\n",
    "\n",
    "# Print r value\n",
    "print(f\"The r-value is: {rvalue**2}\")\n",
    "\n",
    "# Show plot\n",
    "plt.show()"
   ]
  },
  {
   "cell_type": "markdown",
   "metadata": {},
   "source": [
    "####  Southern Hemisphere - Humidity (%) vs. Latitude Linear Regression"
   ]
  },
  {
   "cell_type": "code",
   "execution_count": null,
   "metadata": {},
   "outputs": [],
   "source": [
    "x_values = southern_df['Latitude']\n",
    "h_values = southern_df['Humidity']\n",
    "\n",
    "# Perform a linear regression on temperature vs. latitude\n",
    "(slope, intercept, rvalue, pvalue, stderr) = stats.linregress(x_values, h_values)\n",
    "\n",
    "# Get regression values\n",
    "regress_values = x_values * slope + intercept\n",
    "\n",
    "# Create line equation string\n",
    "line_eq = \"y = \" + str(round(slope,2)) + \"x +\" + str(round(intercept,2))\n",
    "\n",
    "# Create Plot\n",
    "plt.scatter(x_values,h_values)\n",
    "plt.plot(x_values,regress_values,\"r-\")\n",
    "\n",
    "# Label plot and annotate the line equation\n",
    "plt.xlabel('Latitude')\n",
    "plt.ylabel('Humidity')\n",
    "plt.annotate(line_eq,(20,15),fontsize=15,color=\"red\")\n",
    "\n",
    "\n",
    "\n",
    "# Print r value\n",
    "print(f\"The r-value is: {rvalue**2}\")\n",
    "\n",
    "# Show plot\n",
    "plt.show()"
   ]
  },
  {
   "cell_type": "markdown",
   "metadata": {},
   "source": [
    "####  Northern Hemisphere - Cloudiness (%) vs. Latitude Linear Regression"
   ]
  },
  {
   "cell_type": "code",
   "execution_count": 162,
   "metadata": {},
   "outputs": [
    {
     "name": "stdout",
     "output_type": "stream",
     "text": [
      "The r-value is: 0.14698652994894262\n"
     ]
    },
    {
     "data": {
      "image/png": "[encoded data removed]",
      "text/plain": [
       "<Figure size 432x288 with 1 Axes>"
      ]
     },
     "metadata": {
      "needs_background": "light"
     },
     "output_type": "display_data"
    }
   ],
   "source": [
    "x_values = northern_df['Latitude']\n",
    "c_values = northern_df['Cloudiness']\n",
    "\n",
    "# Perform a linear regression on temperature vs. latitude\n",
    "(slope, intercept, rvalue, pvalue, stderr) = stats.linregress(x_values, c_values)\n",
    "\n",
    "# Get regression values\n",
    "regress_values = x_values * slope + intercept\n",
    "\n",
    "# Create line equation string\n",
    "line_eq = \"y = \" + str(round(slope,2)) + \"x +\" + str(round(intercept,2))\n",
    "\n",
    "# Create Plot\n",
    "plt.scatter(x_values,c_values)\n",
    "plt.plot(x_values,regress_values,\"r-\")\n",
    "\n",
    "# Label plot and annotate the line equation\n",
    "plt.xlabel('Latitude')\n",
    "plt.ylabel('Cloudiness')\n",
    "plt.annotate(line_eq,(20,15),fontsize=15,color=\"red\")\n",
    "\n",
    "\n",
    "\n",
    "# Print r value\n",
    "print(f\"The r-value is: {rvalue**2}\")\n",
    "\n",
    "# Show plot\n",
    "plt.show()"
   ]
  },
  {
   "cell_type": "markdown",
   "metadata": {},
   "source": [
    "####  Southern Hemisphere - Cloudiness (%) vs. Latitude Linear Regression"
   ]
  },
  {
   "cell_type": "code",
   "execution_count": 164,
   "metadata": {},
   "outputs": [
    {
     "name": "stdout",
     "output_type": "stream",
     "text": [
      "The r-value is: 0.0016163237782819996\n"
     ]
    },
    {
     "data": {
      "image/png": "[encoded data removed]",
      "text/plain": [
       "<Figure size 432x288 with 1 Axes>"
      ]
     },
     "metadata": {
      "needs_background": "light"
     },
     "output_type": "display_data"
    }
   ],
   "source": [
    "x_values = southern_df['Latitude']\n",
    "c_values = southern_df['Cloudiness']\n",
    "\n",
    "# Perform a linear regression on temperature vs. latitude\n",
    "(slope, intercept, rvalue, pvalue, stderr) = stats.linregress(x_values, c_values)\n",
    "\n",
    "# Get regression values\n",
    "regress_values = x_values * slope + intercept\n",
    "\n",
    "# Create line equation string\n",
    "line_eq = \"y = \" + str(round(slope,2)) + \"x +\" + str(round(intercept,2))\n",
    "\n",
    "# Create Plot\n",
    "plt.scatter(x_values,c_values)\n",
    "plt.plot(x_values,regress_values,\"r-\")\n",
    "\n",
    "# Label plot and annotate the line equation\n",
    "plt.xlabel('Latitude')\n",
    "plt.ylabel('Cloudiness')\n",
    "plt.annotate(line_eq,(20,15),fontsize=15,color=\"red\")\n",
    "\n",
    "\n",
    "\n",
    "# Print r value\n",
    "print(f\"The r-value is: {rvalue**2}\")\n",
    "\n",
    "# Show plot\n",
    "plt.show()"
   ]
  },
  {
   "cell_type": "markdown",
   "metadata": {},
   "source": [
    "####  Northern Hemisphere - Wind Speed (mph) vs. Latitude Linear Regression"
   ]
  },
  {
   "cell_type": "code",
   "execution_count": null,
   "metadata": {},
   "outputs": [],
   "source": []
  },
  {
   "cell_type": "markdown",
   "metadata": {},
   "source": [
    "####  Southern Hemisphere - Wind Speed (mph) vs. Latitude Linear Regression"
   ]
  },
  {
   "cell_type": "code",
   "execution_count": null,
   "metadata": {},
   "outputs": [],
   "source": []
  },
  {
   "cell_type": "code",
   "execution_count": null,
   "metadata": {},
   "outputs": [],
   "source": []
  }
 ],
 "metadata": {
  "anaconda-cloud": {},
  "kernel_info": {
   "name": "python3"
  },
  "kernelspec": {
   "display_name": "Python 3 (ipykernel)",
   "language": "python",
   "name": "python3"
  },
  "language_info": {
   "codemirror_mode": {
    "name": "ipython",
    "version": 3
   },
   "file_extension": ".py",
   "mimetype": "text/x-python",
   "name": "python",
   "nbconvert_exporter": "python",
   "pygments_lexer": "ipython3",
   "version": "3.7.11"
  },
  "latex_envs": {
   "LaTeX_envs_menu_present": true,
   "autoclose": false,
   "autocomplete": true,
   "bibliofile": "biblio.bib",
   "cite_by": "apalike",
   "current_citInitial": 1,
   "eqLabelWithNumbers": true,
   "eqNumInitial": 1,
   "hotkeys": {
    "equation": "Ctrl-E",
    "itemize": "Ctrl-I"
   },
   "labels_anchors": false,
   "latex_user_defs": false,
   "report_style_numbering": false,
   "user_envs_cfg": false
  },
  "nteract": {
   "version": "0.12.3"
  }
 },
 "nbformat": 4,
 "nbformat_minor": 2
}
